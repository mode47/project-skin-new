{
 "cells": [
  {
   "cell_type": "code",
   "execution_count": 1,
   "id": "ff71b836-e534-4495-bb53-6c9cd7b4f691",
   "metadata": {},
   "outputs": [],
   "source": [
    "import pandas as pd\n",
    "import os\n",
    "def data_dictionary():\n",
    "    path_train=\"dataset/\"\n",
    "    list_train=os.listdir(path_train)\n",
    "    train_dictionary={\"image_path\":[],\"target\":[]}\n",
    "    k=0\n",
    "    for i in list_train:\n",
    "        path_disease_train=path_train+i\n",
    "        image_list_train=os.listdir(path_disease_train)\n",
    "        for j in image_list_train:\n",
    "            img_path_train=path_disease_train+\"/\"+j   \n",
    "            train_dictionary[\"image_path\"].append(img_path_train)\n",
    "            train_dictionary['target'].append(k)     \n",
    "        k+=1\n",
    "    train_df=pd.DataFrame(train_dictionary)\n",
    "    return  train_df"
   ]
  },
  {
   "cell_type": "code",
   "execution_count": 2,
   "id": "63d44140-9983-471f-b020-afc63e75c9a0",
   "metadata": {},
   "outputs": [],
   "source": [
    "data=data_dictionary()"
   ]
  },
  {
   "cell_type": "code",
   "execution_count": 3,
   "id": "11e02e9c-c720-4032-978d-8c2b55597cf6",
   "metadata": {},
   "outputs": [],
   "source": [
    "import cv2\n",
    "from sklearn.svm import LinearSVC\n",
    "from sklearn.model_selection import train_test_split\n",
    "from sklearn.metrics import accuracy_score\n",
    "from skimage.feature import hog"
   ]
  },
  {
   "cell_type": "code",
   "execution_count": 4,
   "id": "a2acf568-2ff3-474d-91d8-107846c37e35",
   "metadata": {},
   "outputs": [
    {
     "name": "stderr",
     "output_type": "stream",
     "text": [
      "2023-07-25 11:03:02.399645: I tensorflow/core/platform/cpu_feature_guard.cc:193] This TensorFlow binary is optimized with oneAPI Deep Neural Network Library (oneDNN) to use the following CPU instructions in performance-critical operations:  AVX2 FMA\n",
      "To enable them in other operations, rebuild TensorFlow with the appropriate compiler flags.\n",
      "2023-07-25 11:03:06.377133: W tensorflow/compiler/xla/stream_executor/platform/default/dso_loader.cc:64] Could not load dynamic library 'libnvinfer.so.7'; dlerror: libnvinfer.so.7: cannot open shared object file: No such file or directory; LD_LIBRARY_PATH: /opt/conda/lib/python3.10/site-packages/cv2/../../lib64:/usr/local/cuda/lib64:/usr/local/nccl2/lib:/usr/local/cuda/extras/CUPTI/lib64\n",
      "2023-07-25 11:03:06.378192: W tensorflow/compiler/xla/stream_executor/platform/default/dso_loader.cc:64] Could not load dynamic library 'libnvinfer_plugin.so.7'; dlerror: libnvinfer_plugin.so.7: cannot open shared object file: No such file or directory; LD_LIBRARY_PATH: /opt/conda/lib/python3.10/site-packages/cv2/../../lib64:/usr/local/cuda/lib64:/usr/local/nccl2/lib:/usr/local/cuda/extras/CUPTI/lib64\n",
      "2023-07-25 11:03:06.378208: W tensorflow/compiler/tf2tensorrt/utils/py_utils.cc:38] TF-TRT Warning: Cannot dlopen some TensorRT libraries. If you would like to use Nvidia GPU with TensorRT, please make sure the missing libraries mentioned above are installed properly.\n"
     ]
    }
   ],
   "source": [
    "\n",
    "from tensorflow.keras.applications.vgg19 import VGG19, preprocess_input\n",
    "from tensorflow.keras.preprocessing.image import load_img, img_to_array"
   ]
  },
  {
   "cell_type": "code",
   "execution_count": 5,
   "id": "b7feb4a6-c65b-48b3-8257-1658bb6b2cf1",
   "metadata": {},
   "outputs": [],
   "source": [
    "import numpy as np \n",
    "images=[]\n",
    "\n",
    "for i in data['image_path']:\n",
    "    img = load_img(i, target_size=(100, 100))\n",
    "    x = img_to_array(img)\n",
    "    x = np.expand_dims(x, axis=0)\n",
    "    x = preprocess_input(x)\n",
    "    images.append(x)\n",
    "    \n",
    "    "
   ]
  },
  {
   "cell_type": "code",
   "execution_count": 6,
   "id": "ed99ff0f-5d3b-42bd-a4d2-cd303601a10a",
   "metadata": {},
   "outputs": [],
   "source": [
    "dataset=np.array(images)"
   ]
  },
  {
   "cell_type": "code",
   "execution_count": 7,
   "id": "30866a45-f44b-4e03-8130-2e8d9ed1db63",
   "metadata": {},
   "outputs": [],
   "source": [
    "lable=data['target']"
   ]
  },
  {
   "cell_type": "code",
   "execution_count": 8,
   "id": "4f477873-96a6-4745-8ddc-5fa072df0da3",
   "metadata": {},
   "outputs": [
    {
     "data": {
      "text/plain": [
       "(23184, 1, 100, 100, 3)"
      ]
     },
     "execution_count": 8,
     "metadata": {},
     "output_type": "execute_result"
    }
   ],
   "source": [
    "dataset.shape"
   ]
  },
  {
   "cell_type": "code",
   "execution_count": 9,
   "id": "5412c230-409b-4c5d-a0c9-dc2b30d43115",
   "metadata": {},
   "outputs": [],
   "source": [
    "lable=np.array(lable)"
   ]
  },
  {
   "cell_type": "code",
   "execution_count": 38,
   "id": "480a5f22-7ee1-42e3-9013-23f1420497ea",
   "metadata": {},
   "outputs": [],
   "source": [
    "import tensorflow as tf\n",
    "EFFModel=tf.keras.applications.ResNet50( weights = 'imagenet',  include_top = False, input_shape = (100,100 ,3))"
   ]
  },
  {
   "cell_type": "code",
   "execution_count": 40,
   "id": "25759afa-9129-43af-b8ea-25f9081b8d0a",
   "metadata": {},
   "outputs": [],
   "source": [
    "del features_train\n",
    "del features_test\n"
   ]
  },
  {
   "cell_type": "code",
   "execution_count": null,
   "id": "24610b12-3b5c-4f94-8edb-642090c6eaa1",
   "metadata": {},
   "outputs": [
    {
     "data": {
      "text/plain": [
       "(23184, 100, 100, 3)"
      ]
     },
     "execution_count": 41,
     "metadata": {},
     "output_type": "execute_result"
    }
   ],
   "source": [
    "dataset.shape"
   ]
  },
  {
   "cell_type": "code",
   "execution_count": 12,
   "id": "daca486c-5cd1-4ee6-90d5-3047b7e67daf",
   "metadata": {},
   "outputs": [],
   "source": [
    "dataset = np.reshape(dataset, (23184, 100, 100, 3))"
   ]
  },
  {
   "cell_type": "code",
   "execution_count": 13,
   "id": "4d7d6af4-024c-477c-8409-0af62a5639f4",
   "metadata": {},
   "outputs": [],
   "source": [
    "from tensorflow.keras.models import Sequential\n",
    "from tensorflow.keras.layers import Conv2D,MaxPooling2D,Flatten, Dense\n"
   ]
  },
  {
   "cell_type": "code",
   "execution_count": 44,
   "id": "3f08fbcb-dd9b-4504-bfc5-8ddf68064142",
   "metadata": {},
   "outputs": [],
   "source": [
    "model=Sequential([ \n",
    "                   Dense(500,activation='relu'),\n",
    "                    Dense(200,activation='relu'),\n",
    "                  Dense(100,activation='relu'),\n",
    "                  Dense(23,activation='softmax')\n",
    "\n",
    "])"
   ]
  },
  {
   "cell_type": "code",
   "execution_count": 45,
   "id": "be37f475-ee9b-46a4-9c25-dc7c48135441",
   "metadata": {},
   "outputs": [],
   "source": [
    "from keras.callbacks import ModelCheckpoint, ReduceLROnPlateau"
   ]
  },
  {
   "cell_type": "code",
   "execution_count": 55,
   "id": "620aa39f-9d0c-4028-8e04-f8f0a14a02d2",
   "metadata": {},
   "outputs": [],
   "source": [
    "mcp_save = ModelCheckpoint('EnetB0_CIFAR10_TL.h5', save_best_only=True, monitor='val_acc')\n",
    "reduce_lr = ReduceLROnPlateau(monitor='val_acc', factor=0.5, patience=2, verbose=1,)\n",
    "model.compile(optimizer='adam',loss='categorical_crossentropy',metrics=['accuracy'])\n",
    "from sklearn.model_selection import KFold \n",
    "from sklearn.model_selection import train_test_split "
   ]
  },
  {
   "cell_type": "code",
   "execution_count": 17,
   "id": "6865ad75-a299-40e6-a72f-f4bd77556b9d",
   "metadata": {},
   "outputs": [],
   "source": [
    "import keras\n",
    "acc=[]\n",
    "num_classes = 23\n",
    "lable = keras.utils.to_categorical(lable, num_classes)"
   ]
  },
  {
   "cell_type": "code",
   "execution_count": 46,
   "id": "c71415ff-8c61-4284-817f-4731f06163ea",
   "metadata": {},
   "outputs": [
    {
     "data": {
      "text/plain": [
       "(23184, 23)"
      ]
     },
     "execution_count": 46,
     "metadata": {},
     "output_type": "execute_result"
    }
   ],
   "source": [
    "lable.shape"
   ]
  },
  {
   "cell_type": "code",
   "execution_count": 48,
   "id": "b3186cb5-7f84-4ef5-a9e4-a88762533ef5",
   "metadata": {},
   "outputs": [
    {
     "name": "stderr",
     "output_type": "stream",
     "text": [
      "2023-07-25 12:32:22.866407: W tensorflow/tsl/framework/cpu_allocator_impl.cc:82] Allocation of 2782080000 exceeds 10% of free system memory.\n"
     ]
    },
    {
     "name": "stdout",
     "output_type": "stream",
     "text": [
      "725/725 [==============================] - 241s 330ms/step\n"
     ]
    },
    {
     "name": "stderr",
     "output_type": "stream",
     "text": [
      "2023-07-25 12:36:27.856569: W tensorflow/tsl/framework/cpu_allocator_impl.cc:82] Allocation of 3038773248 exceeds 10% of free system memory.\n"
     ]
    }
   ],
   "source": [
    "features_train=EFFModel.predict(dataset)"
   ]
  },
  {
   "cell_type": "code",
   "execution_count": 50,
   "id": "36a22f2e-ba43-41f0-846b-383ec8a288ae",
   "metadata": {},
   "outputs": [],
   "source": [
    "\n",
    "features_train=features_train.reshape(23184,-1)"
   ]
  },
  {
   "cell_type": "code",
   "execution_count": 51,
   "id": "476729bf-a731-486f-ab16-4852d880e233",
   "metadata": {},
   "outputs": [
    {
     "data": {
      "text/plain": [
       "(23184, 32768)"
      ]
     },
     "execution_count": 51,
     "metadata": {},
     "output_type": "execute_result"
    }
   ],
   "source": [
    "features_train.shape"
   ]
  },
  {
   "cell_type": "code",
   "execution_count": 56,
   "id": "72468a16-abe1-4768-a56c-8accfe99b18c",
   "metadata": {},
   "outputs": [
    {
     "name": "stdout",
     "output_type": "stream",
     "text": [
      "Epoch 1/15\n"
     ]
    },
    {
     "name": "stderr",
     "output_type": "stream",
     "text": [
      "2023-07-25 12:42:21.013481: W tensorflow/tsl/framework/cpu_allocator_impl.cc:82] Allocation of 2461270016 exceeds 10% of free system memory.\n"
     ]
    },
    {
     "name": "stdout",
     "output_type": "stream",
     "text": [
      "1174/1174 [==============================] - 76s 64ms/step - loss: 2.1273 - accuracy: 0.4080 - val_loss: 1.3472 - val_accuracy: 0.5913\n",
      "Epoch 2/15\n",
      "1174/1174 [==============================] - 84s 72ms/step - loss: 0.9246 - accuracy: 0.7190 - val_loss: 0.8367 - val_accuracy: 0.7484\n",
      "Epoch 3/15\n",
      "1174/1174 [==============================] - 76s 64ms/step - loss: 0.5104 - accuracy: 0.8397 - val_loss: 0.6385 - val_accuracy: 0.8079\n",
      "Epoch 4/15\n",
      "1174/1174 [==============================] - 75s 63ms/step - loss: 0.3583 - accuracy: 0.8883 - val_loss: 0.6439 - val_accuracy: 0.8265\n",
      "Epoch 5/15\n",
      "1174/1174 [==============================] - 74s 63ms/step - loss: 0.2936 - accuracy: 0.9084 - val_loss: 0.7294 - val_accuracy: 0.8083\n",
      "Epoch 6/15\n",
      "1174/1174 [==============================] - 74s 63ms/step - loss: 0.2329 - accuracy: 0.9274 - val_loss: 0.6543 - val_accuracy: 0.8457\n",
      "Epoch 7/15\n",
      "1174/1174 [==============================] - 75s 64ms/step - loss: 0.2149 - accuracy: 0.9350 - val_loss: 0.5919 - val_accuracy: 0.8510\n",
      "Epoch 8/15\n",
      "1174/1174 [==============================] - 75s 64ms/step - loss: 0.2090 - accuracy: 0.9362 - val_loss: 0.5968 - val_accuracy: 0.8558\n",
      "Epoch 9/15\n",
      "1174/1174 [==============================] - 75s 64ms/step - loss: 0.1957 - accuracy: 0.9411 - val_loss: 0.4103 - val_accuracy: 0.8951\n",
      "Epoch 10/15\n",
      "1174/1174 [==============================] - 75s 64ms/step - loss: 0.1801 - accuracy: 0.9482 - val_loss: 0.4447 - val_accuracy: 0.8984\n",
      "Epoch 11/15\n",
      "1174/1174 [==============================] - 75s 64ms/step - loss: 0.1535 - accuracy: 0.9541 - val_loss: 0.4969 - val_accuracy: 0.8879\n",
      "Epoch 12/15\n",
      "1174/1174 [==============================] - 74s 63ms/step - loss: 0.1607 - accuracy: 0.9543 - val_loss: 0.4903 - val_accuracy: 0.8855\n",
      "Epoch 13/15\n",
      "1174/1174 [==============================] - 73s 63ms/step - loss: 0.1351 - accuracy: 0.9607 - val_loss: 0.6973 - val_accuracy: 0.8783\n",
      "Epoch 14/15\n",
      "1174/1174 [==============================] - 78s 66ms/step - loss: 0.1528 - accuracy: 0.9568 - val_loss: 0.5417 - val_accuracy: 0.8917\n",
      "Epoch 15/15\n",
      "1174/1174 [==============================] - 77s 66ms/step - loss: 0.1279 - accuracy: 0.9620 - val_loss: 0.5414 - val_accuracy: 0.8893\n",
      "73/73 [==============================] - 1s 14ms/step - loss: 0.5973 - accuracy: 0.8849\n",
      "Epoch 1/15\n",
      "   1/1174 [..............................] - ETA: 1:50 - loss: 0.6077 - accuracy: 0.8750"
     ]
    },
    {
     "name": "stderr",
     "output_type": "stream",
     "text": [
      "2023-07-25 13:01:27.356865: W tensorflow/tsl/framework/cpu_allocator_impl.cc:82] Allocation of 2461270016 exceeds 10% of free system memory.\n"
     ]
    },
    {
     "name": "stdout",
     "output_type": "stream",
     "text": [
      "1174/1174 [==============================] - 92s 79ms/step - loss: 0.1933 - accuracy: 0.9489 - val_loss: 0.2175 - val_accuracy: 0.9425\n",
      "Epoch 2/15\n",
      "1174/1174 [==============================] - 98s 83ms/step - loss: 0.1217 - accuracy: 0.9658 - val_loss: 0.1424 - val_accuracy: 0.9612\n",
      "Epoch 3/15\n",
      "1174/1174 [==============================] - 97s 82ms/step - loss: 0.1219 - accuracy: 0.9660 - val_loss: 0.1626 - val_accuracy: 0.9588\n",
      "Epoch 4/15\n",
      "1174/1174 [==============================] - 97s 82ms/step - loss: 0.1196 - accuracy: 0.9677 - val_loss: 0.1628 - val_accuracy: 0.9569\n",
      "Epoch 5/15\n",
      "1174/1174 [==============================] - 96s 82ms/step - loss: 0.1212 - accuracy: 0.9669 - val_loss: 0.1627 - val_accuracy: 0.9588\n",
      "Epoch 6/15\n",
      "1174/1174 [==============================] - 96s 82ms/step - loss: 0.1249 - accuracy: 0.9675 - val_loss: 0.1271 - val_accuracy: 0.9598\n",
      "Epoch 7/15\n",
      "1174/1174 [==============================] - 96s 82ms/step - loss: 0.1095 - accuracy: 0.9704 - val_loss: 0.1876 - val_accuracy: 0.9459\n",
      "Epoch 8/15\n",
      "1174/1174 [==============================] - 96s 82ms/step - loss: 0.1027 - accuracy: 0.9750 - val_loss: 0.2017 - val_accuracy: 0.9502\n",
      "Epoch 9/15\n",
      "1174/1174 [==============================] - 95s 81ms/step - loss: 0.1194 - accuracy: 0.9709 - val_loss: 0.1399 - val_accuracy: 0.9708\n",
      "Epoch 10/15\n",
      "1174/1174 [==============================] - 100s 85ms/step - loss: 0.0984 - accuracy: 0.9728 - val_loss: 0.2585 - val_accuracy: 0.9463\n",
      "Epoch 11/15\n",
      "1174/1174 [==============================] - 95s 81ms/step - loss: 0.0926 - accuracy: 0.9752 - val_loss: 0.2036 - val_accuracy: 0.9497\n",
      "Epoch 12/15\n",
      "1174/1174 [==============================] - 96s 81ms/step - loss: 0.0968 - accuracy: 0.9767 - val_loss: 0.1209 - val_accuracy: 0.9645\n",
      "Epoch 13/15\n",
      "1174/1174 [==============================] - 99s 84ms/step - loss: 0.1119 - accuracy: 0.9725 - val_loss: 0.2727 - val_accuracy: 0.9411\n",
      "Epoch 14/15\n",
      "1174/1174 [==============================] - 98s 83ms/step - loss: 0.0842 - accuracy: 0.9768 - val_loss: 0.1584 - val_accuracy: 0.9655\n",
      "Epoch 15/15\n",
      "1174/1174 [==============================] - 98s 84ms/step - loss: 0.1052 - accuracy: 0.9753 - val_loss: 0.2018 - val_accuracy: 0.9492\n",
      "73/73 [==============================] - 1s 12ms/step - loss: 0.2194 - accuracy: 0.9401\n",
      "Epoch 1/15\n",
      "1174/1174 [==============================] - 85s 73ms/step - loss: 0.1156 - accuracy: 0.9715 - val_loss: 0.1540 - val_accuracy: 0.9693\n",
      "Epoch 2/15\n",
      "1174/1174 [==============================] - 93s 79ms/step - loss: 0.0910 - accuracy: 0.9759 - val_loss: 0.0655 - val_accuracy: 0.9756\n",
      "Epoch 3/15\n",
      "1174/1174 [==============================] - 92s 78ms/step - loss: 0.1155 - accuracy: 0.9749 - val_loss: 0.1497 - val_accuracy: 0.9598\n",
      "Epoch 4/15\n",
      "1174/1174 [==============================] - 92s 78ms/step - loss: 0.0714 - accuracy: 0.9809 - val_loss: 0.2178 - val_accuracy: 0.9631\n",
      "Epoch 5/15\n",
      "1174/1174 [==============================] - 95s 81ms/step - loss: 0.0892 - accuracy: 0.9783 - val_loss: 0.1101 - val_accuracy: 0.9775\n",
      "Epoch 6/15\n",
      "1174/1174 [==============================] - 92s 78ms/step - loss: 0.0728 - accuracy: 0.9814 - val_loss: 0.1894 - val_accuracy: 0.9602\n",
      "Epoch 7/15\n",
      "1174/1174 [==============================] - 92s 79ms/step - loss: 0.0967 - accuracy: 0.9771 - val_loss: 0.1446 - val_accuracy: 0.9674\n",
      "Epoch 8/15\n",
      "1174/1174 [==============================] - 93s 80ms/step - loss: 0.0953 - accuracy: 0.9776 - val_loss: 0.1655 - val_accuracy: 0.9665\n",
      "Epoch 9/15\n",
      "1174/1174 [==============================] - 93s 80ms/step - loss: 0.0794 - accuracy: 0.9812 - val_loss: 0.1823 - val_accuracy: 0.9717\n",
      "Epoch 10/15\n",
      "1174/1174 [==============================] - 98s 84ms/step - loss: 0.0866 - accuracy: 0.9801 - val_loss: 0.0822 - val_accuracy: 0.9736\n",
      "Epoch 11/15\n",
      "1174/1174 [==============================] - 97s 83ms/step - loss: 0.1014 - accuracy: 0.9768 - val_loss: 0.2174 - val_accuracy: 0.9631\n",
      "Epoch 12/15\n",
      "1174/1174 [==============================] - 97s 83ms/step - loss: 0.0687 - accuracy: 0.9846 - val_loss: 0.3301 - val_accuracy: 0.9353\n",
      "Epoch 13/15\n",
      "1174/1174 [==============================] - 96s 82ms/step - loss: 0.0883 - accuracy: 0.9792 - val_loss: 0.2597 - val_accuracy: 0.9545\n",
      "Epoch 14/15\n",
      "1174/1174 [==============================] - 96s 81ms/step - loss: 0.0826 - accuracy: 0.9823 - val_loss: 0.1689 - val_accuracy: 0.9665\n",
      "Epoch 15/15\n",
      "1174/1174 [==============================] - 98s 83ms/step - loss: 0.0952 - accuracy: 0.9803 - val_loss: 0.2166 - val_accuracy: 0.9641\n",
      "73/73 [==============================] - 1s 12ms/step - loss: 0.1832 - accuracy: 0.9737\n"
     ]
    }
   ],
   "source": [
    "\n",
    "for i in range(3): \n",
    "    x_train,x_test, y_train, y_test=train_test_split(features_train, lable, test_size=0.1,random_state = np.random.randint(1,1000, 1)[0])\n",
    "    x_train,x_valid,y_train,y_valid= train_test_split(x_train, y_train, test_size=0.1)\n",
    "    history=model.fit(x_train,y_train,epochs=15,validation_data=(x_valid,y_valid),batch_size=16,verbose=1) \n",
    "    model.evaluate(x_test,y_test)"
   ]
  },
  {
   "cell_type": "code",
   "execution_count": 21,
   "id": "3bfd5043-2df4-4d83-a16f-872c5137da57",
   "metadata": {},
   "outputs": [],
   "source": []
  },
  {
   "cell_type": "code",
   "execution_count": 57,
   "id": "42540127-9afc-426d-a804-0260603dc1f3",
   "metadata": {},
   "outputs": [
    {
     "name": "stdout",
     "output_type": "stream",
     "text": [
      "73/73 [==============================] - 1s 11ms/step - loss: 0.1832 - accuracy: 0.9737\n"
     ]
    }
   ],
   "source": [
    "eval=model.evaluate(x_test,y_test)"
   ]
  },
  {
   "cell_type": "code",
   "execution_count": 58,
   "id": "d3b54116-65b9-4419-a2f9-a8d208475fba",
   "metadata": {},
   "outputs": [
    {
     "data": {
      "text/plain": [
       "[0.1831936538219452, 0.9736955761909485]"
      ]
     },
     "execution_count": 58,
     "metadata": {},
     "output_type": "execute_result"
    }
   ],
   "source": [
    "eval"
   ]
  },
  {
   "cell_type": "code",
   "execution_count": 59,
   "id": "fbb0aebf-d327-45dc-8c81-03b21a80f583",
   "metadata": {},
   "outputs": [
    {
     "data": {
      "text/plain": [
       "<matplotlib.legend.Legend at 0x7f4d81a33e20>"
      ]
     },
     "execution_count": 59,
     "metadata": {},
     "output_type": "execute_result"
    },
    {
     "data": {
      "image/png": "[encoded data removed]",
      "text/plain": [
       "<Figure size 1200x400 with 2 Axes>"
      ]
     },
     "metadata": {},
     "output_type": "display_data"
    }
   ],
   "source": [
    "train_accuracy = history.history['accuracy']\n",
    "val_accuracy = history.history['val_accuracy']\n",
    "train_loss = history.history['loss']\n",
    "val_loss = history.history['val_loss']\n",
    "\n",
    "epochs = range(len(train_accuracy))\n",
    "plt.figure(figsize=(12,4))\n",
    "\n",
    "# Plotting the accuracy\n",
    "plt.subplot(1,2,1)\n",
    "plt.plot(epochs, train_accuracy, 'b', label='Training accuracy')\n",
    "plt.plot(epochs, val_accuracy, 'r', label='Validation accuracy')\n",
    "plt.title('Training and validation accuracy')\n",
    "plt.xlabel('Epoch')\n",
    "plt.ylabel('Accuracy')\n",
    "plt.legend(['train', 'val'], loc='lower right')\n",
    "\n",
    "# Plotting the loss\n",
    "plt.subplot(1,2,2)\n",
    "plt.plot(epochs, train_loss, 'b', label='Training loss')\n",
    "plt.plot(epochs, val_loss, 'r', label='Validation loss')\n",
    "plt.title('Training and validation loss')\n",
    "plt.xlabel('Epoch')\n",
    "plt.ylabel('Loss')\n",
    "plt.legend(['train', 'val'], loc='upper right')"
   ]
  },
  {
   "cell_type": "code",
   "execution_count": 60,
   "id": "169bd0c9-a790-47e1-a118-4d3843823f7b",
   "metadata": {},
   "outputs": [
    {
     "name": "stdout",
     "output_type": "stream",
     "text": [
      "73/73 [==============================] - 1s 11ms/step\n"
     ]
    },
    {
     "data": {
      "text/plain": [
       "array([17,  2, 13, ..., 17,  7, 21])"
      ]
     },
     "execution_count": 60,
     "metadata": {},
     "output_type": "execute_result"
    }
   ],
   "source": [
    "y_pred=model.predict(x_test)\n",
    "y_pred=np.argmax(y_pred, axis=1)\n",
    "y_pred"
   ]
  },
  {
   "cell_type": "code",
   "execution_count": 61,
   "id": "6f7f6414-1abc-4831-a343-749f87874e5f",
   "metadata": {},
   "outputs": [],
   "source": [
    "y_test=np.argmax(y_test, axis=1)"
   ]
  },
  {
   "cell_type": "code",
   "execution_count": 62,
   "id": "8ff02b33-a174-4bc5-aa37-9459d260297c",
   "metadata": {},
   "outputs": [
    {
     "name": "stdout",
     "output_type": "stream",
     "text": [
      "              precision    recall  f1-score   support\n",
      "\n",
      "           0       0.99      0.99      0.99       108\n",
      "           1       1.00      0.98      0.99       110\n",
      "           2       0.99      0.97      0.98       112\n",
      "           3       0.86      0.89      0.87        98\n",
      "           4       1.00      0.92      0.96        95\n",
      "           5       0.97      1.00      0.98        94\n",
      "           6       0.99      1.00      1.00       105\n",
      "           7       1.00      0.98      0.99       101\n",
      "           8       0.99      1.00      0.99        89\n",
      "           9       1.00      0.99      0.99        87\n",
      "          10       0.92      0.85      0.88       110\n",
      "          11       0.99      1.00      1.00       104\n",
      "          12       0.88      1.00      0.93        86\n",
      "          13       0.99      0.98      0.99       106\n",
      "          14       1.00      1.00      1.00       101\n",
      "          15       0.96      1.00      0.98        97\n",
      "          16       0.99      0.94      0.97       106\n",
      "          17       0.99      1.00      0.99       135\n",
      "          18       0.94      0.99      0.96        83\n",
      "          19       0.97      0.99      0.98        96\n",
      "          20       0.99      0.98      0.99       105\n",
      "          21       0.99      0.97      0.98        87\n",
      "          22       0.99      0.99      0.99       104\n",
      "\n",
      "    accuracy                           0.97      2319\n",
      "   macro avg       0.97      0.97      0.97      2319\n",
      "weighted avg       0.97      0.97      0.97      2319\n",
      "\n"
     ]
    }
   ],
   "source": [
    "from sklearn.metrics import *\n",
    "print(classification_report(y_test, y_pred))"
   ]
  },
  {
   "cell_type": "code",
   "execution_count": 65,
   "id": "b820dfdc-7e86-477d-9a28-6dc3355b5b0f",
   "metadata": {},
   "outputs": [],
   "source": [
    "acc=accuracy_score(y_test,y_pred)"
   ]
  },
  {
   "cell_type": "code",
   "execution_count": 66,
   "id": "661bffe1-1916-4751-9202-9db365a413d0",
   "metadata": {},
   "outputs": [
    {
     "data": {
      "text/plain": [
       "0.9736955584303579"
      ]
     },
     "execution_count": 66,
     "metadata": {},
     "output_type": "execute_result"
    }
   ],
   "source": [
    "acc"
   ]
  },
  {
   "cell_type": "code",
   "execution_count": null,
   "id": "d3abbdd0-f77f-4fd8-b48f-2306b1ec1b2d",
   "metadata": {},
   "outputs": [],
   "source": []
  }
 ],
 "metadata": {
  "environment": {
   "kernel": "python3",
   "name": "tf2-gpu.2-11.m109",
   "type": "gcloud",
   "uri": "gcr.io/deeplearning-platform-release/tf2-gpu.2-11:m109"
  },
  "kernelspec": {
   "display_name": "Python 3",
   "language": "python",
   "name": "python3"
  },
  "language_info": {
   "codemirror_mode": {
    "name": "ipython",
    "version": 3
   },
   "file_extension": ".py",
   "mimetype": "text/x-python",
   "name": "python",
   "nbconvert_exporter": "python",
   "pygments_lexer": "ipython3",
   "version": "3.10.11"
  }
 },
 "nbformat": 4,
 "nbformat_minor": 5
}
