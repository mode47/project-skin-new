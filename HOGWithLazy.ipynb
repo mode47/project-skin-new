{
 "cells": [
  {
   "cell_type": "code",
   "execution_count": 2,
   "id": "73fd3c63-3b35-46d6-8c13-202861c93a39",
   "metadata": {},
   "outputs": [],
   "source": [
    "import pandas as pd\n",
    "import os\n",
    "def data_dictionary():\n",
    "    path_train=\"dataset/\"\n",
    "    list_train=os.listdir(path_train)\n",
    "    train_dictionary={\"image_path\":[],\"target\":[]}\n",
    "    k=0\n",
    "    for i in list_train:\n",
    "        path_disease_train=path_train+i\n",
    "        image_list_train=os.listdir(path_disease_train)\n",
    "        for j in image_list_train:\n",
    "            img_path_train=path_disease_train+\"/\"+j   \n",
    "            train_dictionary[\"image_path\"].append(img_path_train)\n",
    "            train_dictionary['target'].append(k)     \n",
    "        k+=1\n",
    "    train_df=pd.DataFrame(train_dictionary)\n",
    "    return  train_df"
   ]
  },
  {
   "cell_type": "code",
   "execution_count": 3,
   "id": "66a97fec-32f7-4f96-b42b-94cb10ced288",
   "metadata": {},
   "outputs": [],
   "source": [
    "data=data_dictionary()"
   ]
  },
  {
   "cell_type": "code",
   "execution_count": 4,
   "id": "e271e99a-8cef-426b-a355-064a78ad7694",
   "metadata": {},
   "outputs": [
    {
     "name": "stderr",
     "output_type": "stream",
     "text": [
      "2023-07-22 08:57:41.986997: I tensorflow/core/platform/cpu_feature_guard.cc:193] This TensorFlow binary is optimized with oneAPI Deep Neural Network Library (oneDNN) to use the following CPU instructions in performance-critical operations:  AVX2 FMA\n",
      "To enable them in other operations, rebuild TensorFlow with the appropriate compiler flags.\n",
      "2023-07-22 08:57:43.540239: W tensorflow/compiler/xla/stream_executor/platform/default/dso_loader.cc:64] Could not load dynamic library 'libnvinfer.so.7'; dlerror: libnvinfer.so.7: cannot open shared object file: No such file or directory; LD_LIBRARY_PATH: /usr/local/cuda/lib64:/usr/local/nccl2/lib:/usr/local/cuda/extras/CUPTI/lib64\n",
      "2023-07-22 08:57:43.540387: W tensorflow/compiler/xla/stream_executor/platform/default/dso_loader.cc:64] Could not load dynamic library 'libnvinfer_plugin.so.7'; dlerror: libnvinfer_plugin.so.7: cannot open shared object file: No such file or directory; LD_LIBRARY_PATH: /usr/local/cuda/lib64:/usr/local/nccl2/lib:/usr/local/cuda/extras/CUPTI/lib64\n",
      "2023-07-22 08:57:43.540400: W tensorflow/compiler/tf2tensorrt/utils/py_utils.cc:38] TF-TRT Warning: Cannot dlopen some TensorRT libraries. If you would like to use Nvidia GPU with TensorRT, please make sure the missing libraries mentioned above are installed properly.\n"
     ]
    }
   ],
   "source": [
    "\n",
    "from tensorflow.keras.applications.vgg19 import VGG19, preprocess_input\n",
    "from tensorflow.keras.preprocessing.image import load_img, img_to_array"
   ]
  },
  {
   "cell_type": "code",
   "execution_count": 5,
   "id": "53204905-40e4-418d-95b4-4a5d4507c18f",
   "metadata": {},
   "outputs": [],
   "source": [
    "import cv2\n",
    "from sklearn.svm import LinearSVC\n",
    "from sklearn.model_selection import train_test_split\n",
    "from sklearn.metrics import accuracy_score\n",
    "from skimage.feature import hog"
   ]
  },
  {
   "cell_type": "code",
   "execution_count": 6,
   "id": "9044fddd-a2e3-403d-aaf5-59d3db9252d3",
   "metadata": {},
   "outputs": [],
   "source": [
    "import cv2\n",
    "images=[]\n",
    "label=[]\n",
    "hog_features=[]\n",
    "\n",
    "from tensorflow.keras.applications.vgg19 import VGG19, preprocess_input\n",
    "from tensorflow.keras.preprocessing.image import load_img, img_to_array\n",
    "import numpy as np\n",
    "for i in data['image_path']:\n",
    "    img=cv2.imread(i,0)\n",
    "    img=cv2.resize(img,(150,150))\n",
    "    hog_feature = hog(img, orientations=9, pixels_per_cell=(8, 8),cells_per_block=(2, 2))               \n",
    "    hog_features.append(hog_feature)\n",
    "    images.append(img)\n",
    "                   "
   ]
  },
  {
   "cell_type": "code",
   "execution_count": 7,
   "id": "1b3d7583-5606-42f1-af8d-ecd63b549033",
   "metadata": {},
   "outputs": [],
   "source": [
    "hog_features=np.array(hog_features)"
   ]
  },
  {
   "cell_type": "code",
   "execution_count": 8,
   "id": "286a7132-c6d3-424d-9e5f-b731dc790181",
   "metadata": {},
   "outputs": [],
   "source": [
    "lable=data['target']"
   ]
  },
  {
   "cell_type": "code",
   "execution_count": 9,
   "id": "03bc8531-901f-4f31-9c89-884d2ca50ce3",
   "metadata": {},
   "outputs": [],
   "source": [
    "X_train, X_test, y_train, y_test = train_test_split(hog_features, lable, test_size=0.1, random_state=42)\n",
    "\n"
   ]
  },
  {
   "cell_type": "code",
   "execution_count": 10,
   "id": "ee5ac65f-67dc-4364-a38c-80d2ae0d3758",
   "metadata": {},
   "outputs": [
    {
     "data": {
      "text/plain": [
       "(20865, 10404)"
      ]
     },
     "execution_count": 10,
     "metadata": {},
     "output_type": "execute_result"
    }
   ],
   "source": [
    "X_train.shape"
   ]
  },
  {
   "cell_type": "code",
   "execution_count": 11,
   "id": "36f254e5-3654-459f-928e-78c659302eb1",
   "metadata": {},
   "outputs": [
    {
     "data": {
      "text/plain": [
       "(2319, 10404)"
      ]
     },
     "execution_count": 11,
     "metadata": {},
     "output_type": "execute_result"
    }
   ],
   "source": [
    "X_test.shape"
   ]
  },
  {
   "cell_type": "code",
   "execution_count": 12,
   "id": "8eca22ae-7a46-47db-9c17-5317a3710239",
   "metadata": {},
   "outputs": [
    {
     "name": "stdout",
     "output_type": "stream",
     "text": [
      "1\n"
     ]
    }
   ],
   "source": [
    "print(1)"
   ]
  },
  {
   "cell_type": "code",
   "execution_count": 13,
   "id": "b4d73688-3ac1-4ed2-9705-611d7af1ca72",
   "metadata": {},
   "outputs": [],
   "source": [
    "from sklearn.decomposition import PCA\n",
    "pca = PCA(n_components =500) \n",
    "X_train = pca.fit_transform(X_train)\n",
    "X_test = pca.transform(X_test)"
   ]
  },
  {
   "cell_type": "code",
   "execution_count": 14,
   "id": "90dcdfc7-9869-4680-92ac-dda99bbfb0d6",
   "metadata": {},
   "outputs": [
    {
     "data": {
      "text/plain": [
       "(2319, 500)"
      ]
     },
     "execution_count": 14,
     "metadata": {},
     "output_type": "execute_result"
    }
   ],
   "source": [
    "X_test.shape"
   ]
  },
  {
   "cell_type": "code",
   "execution_count": null,
   "id": "bc052b56-d26a-4c35-869a-1ec56d19920d",
   "metadata": {},
   "outputs": [],
   "source": []
  },
  {
   "cell_type": "code",
   "execution_count": 15,
   "id": "25473025-0a9e-481b-ab93-fd7728312dbb",
   "metadata": {},
   "outputs": [
    {
     "data": {
      "text/plain": [
       "(20865, 500)"
      ]
     },
     "execution_count": 15,
     "metadata": {},
     "output_type": "execute_result"
    }
   ],
   "source": [
    "X_train.shape"
   ]
  },
  {
   "cell_type": "code",
   "execution_count": 27,
   "id": "46d3af74-7ef3-4593-8ea1-bd148ba289f6",
   "metadata": {},
   "outputs": [],
   "source": [
    "from sklearn.discriminant_analysis import QuadraticDiscriminantAnalysis"
   ]
  },
  {
   "cell_type": "code",
   "execution_count": 28,
   "id": "588bef5a-798a-4b9f-bfab-dbd6e9fa1ae0",
   "metadata": {},
   "outputs": [],
   "source": [
    "clf=QuadraticDiscriminantAnalysis()"
   ]
  },
  {
   "cell_type": "code",
   "execution_count": 29,
   "id": "93ec0dd5-d38f-41f4-b60a-7e9dbf49d941",
   "metadata": {},
   "outputs": [
    {
     "data": {
      "text/html": [
       "<style>#sk-container-id-1 {color: black;background-color: white;}#sk-container-id-1 pre{padding: 0;}#sk-container-id-1 div.sk-toggleable {background-color: white;}#sk-container-id-1 label.sk-toggleable__label {cursor: pointer;display: block;width: 100%;margin-bottom: 0;padding: 0.3em;box-sizing: border-box;text-align: center;}#sk-container-id-1 label.sk-toggleable__label-arrow:before {content: \"▸\";float: left;margin-right: 0.25em;color: #696969;}#sk-container-id-1 label.sk-toggleable__label-arrow:hover:before {color: black;}#sk-container-id-1 div.sk-estimator:hover label.sk-toggleable__label-arrow:before {color: black;}#sk-container-id-1 div.sk-toggleable__content {max-height: 0;max-width: 0;overflow: hidden;text-align: left;background-color: #f0f8ff;}#sk-container-id-1 div.sk-toggleable__content pre {margin: 0.2em;color: black;border-radius: 0.25em;background-color: #f0f8ff;}#sk-container-id-1 input.sk-toggleable__control:checked~div.sk-toggleable__content {max-height: 200px;max-width: 100%;overflow: auto;}#sk-container-id-1 input.sk-toggleable__control:checked~label.sk-toggleable__label-arrow:before {content: \"▾\";}#sk-container-id-1 div.sk-estimator input.sk-toggleable__control:checked~label.sk-toggleable__label {background-color: #d4ebff;}#sk-container-id-1 div.sk-label input.sk-toggleable__control:checked~label.sk-toggleable__label {background-color: #d4ebff;}#sk-container-id-1 input.sk-hidden--visually {border: 0;clip: rect(1px 1px 1px 1px);clip: rect(1px, 1px, 1px, 1px);height: 1px;margin: -1px;overflow: hidden;padding: 0;position: absolute;width: 1px;}#sk-container-id-1 div.sk-estimator {font-family: monospace;background-color: #f0f8ff;border: 1px dotted black;border-radius: 0.25em;box-sizing: border-box;margin-bottom: 0.5em;}#sk-container-id-1 div.sk-estimator:hover {background-color: #d4ebff;}#sk-container-id-1 div.sk-parallel-item::after {content: \"\";width: 100%;border-bottom: 1px solid gray;flex-grow: 1;}#sk-container-id-1 div.sk-label:hover label.sk-toggleable__label {background-color: #d4ebff;}#sk-container-id-1 div.sk-serial::before {content: \"\";position: absolute;border-left: 1px solid gray;box-sizing: border-box;top: 0;bottom: 0;left: 50%;z-index: 0;}#sk-container-id-1 div.sk-serial {display: flex;flex-direction: column;align-items: center;background-color: white;padding-right: 0.2em;padding-left: 0.2em;position: relative;}#sk-container-id-1 div.sk-item {position: relative;z-index: 1;}#sk-container-id-1 div.sk-parallel {display: flex;align-items: stretch;justify-content: center;background-color: white;position: relative;}#sk-container-id-1 div.sk-item::before, #sk-container-id-1 div.sk-parallel-item::before {content: \"\";position: absolute;border-left: 1px solid gray;box-sizing: border-box;top: 0;bottom: 0;left: 50%;z-index: -1;}#sk-container-id-1 div.sk-parallel-item {display: flex;flex-direction: column;z-index: 1;position: relative;background-color: white;}#sk-container-id-1 div.sk-parallel-item:first-child::after {align-self: flex-end;width: 50%;}#sk-container-id-1 div.sk-parallel-item:last-child::after {align-self: flex-start;width: 50%;}#sk-container-id-1 div.sk-parallel-item:only-child::after {width: 0;}#sk-container-id-1 div.sk-dashed-wrapped {border: 1px dashed gray;margin: 0 0.4em 0.5em 0.4em;box-sizing: border-box;padding-bottom: 0.4em;background-color: white;}#sk-container-id-1 div.sk-label label {font-family: monospace;font-weight: bold;display: inline-block;line-height: 1.2em;}#sk-container-id-1 div.sk-label-container {text-align: center;}#sk-container-id-1 div.sk-container {/* jupyter's `normalize.less` sets `[hidden] { display: none; }` but bootstrap.min.css set `[hidden] { display: none !important; }` so we also need the `!important` here to be able to override the default hidden behavior on the sphinx rendered scikit-learn.org. See: https://github.com/scikit-learn/scikit-learn/issues/21755 */display: inline-block !important;position: relative;}#sk-container-id-1 div.sk-text-repr-fallback {display: none;}</style><div id=\"sk-container-id-1\" class=\"sk-top-container\"><div class=\"sk-text-repr-fallback\"><pre>QuadraticDiscriminantAnalysis()</pre><b>In a Jupyter environment, please rerun this cell to show the HTML representation or trust the notebook. <br />On GitHub, the HTML representation is unable to render, please try loading this page with nbviewer.org.</b></div><div class=\"sk-container\" hidden><div class=\"sk-item\"><div class=\"sk-estimator sk-toggleable\"><input class=\"sk-toggleable__control sk-hidden--visually\" id=\"sk-estimator-id-1\" type=\"checkbox\" checked><label for=\"sk-estimator-id-1\" class=\"sk-toggleable__label sk-toggleable__label-arrow\">QuadraticDiscriminantAnalysis</label><div class=\"sk-toggleable__content\"><pre>QuadraticDiscriminantAnalysis()</pre></div></div></div></div></div>"
      ],
      "text/plain": [
       "QuadraticDiscriminantAnalysis()"
      ]
     },
     "execution_count": 29,
     "metadata": {},
     "output_type": "execute_result"
    }
   ],
   "source": [
    "clf.fit(X_train,y_train)"
   ]
  },
  {
   "cell_type": "code",
   "execution_count": 30,
   "id": "2b3ba995-6d86-4709-ac70-a302a0e015e8",
   "metadata": {},
   "outputs": [],
   "source": [
    "y_pred=clf.predict(X_test)"
   ]
  },
  {
   "cell_type": "code",
   "execution_count": 43,
   "id": "44fd811a-c3a1-4793-ab22-b13c54bdc73f",
   "metadata": {},
   "outputs": [
    {
     "data": {
      "text/plain": [
       "2319"
      ]
     },
     "execution_count": 43,
     "metadata": {},
     "output_type": "execute_result"
    }
   ],
   "source": [
    "len(y_pred)"
   ]
  },
  {
   "cell_type": "code",
   "execution_count": 42,
   "id": "fdda30a8-d765-4ed2-82a4-a78c69a26577",
   "metadata": {},
   "outputs": [
    {
     "data": {
      "text/plain": [
       "2319"
      ]
     },
     "execution_count": 42,
     "metadata": {},
     "output_type": "execute_result"
    }
   ],
   "source": [
    "len(y_test)"
   ]
  },
  {
   "cell_type": "code",
   "execution_count": 37,
   "id": "4d34d723-8988-429a-88a1-7c0450b6e440",
   "metadata": {},
   "outputs": [],
   "source": [
    "y_test=np.argmax(y_test)"
   ]
  },
  {
   "cell_type": "code",
   "execution_count": 50,
   "id": "b6ec2475-409d-4870-bde1-6c2aff83bcd3",
   "metadata": {},
   "outputs": [],
   "source": [
    "import cv2\n",
    "from sklearn.svm import LinearSVC\n",
    "from sklearn.model_selection import train_test_split\n",
    "from sklearn.metrics import accuracy_score,confusion_matrix,classification_report\n",
    "from skimage.feature import hog\n",
    "confusion_matrix_result=confusion_matrix(y_test,y_pred)"
   ]
  },
  {
   "cell_type": "code",
   "execution_count": 51,
   "id": "506a498b-d2b0-4554-81da-7719ebf833b9",
   "metadata": {},
   "outputs": [
    {
     "data": {
      "text/plain": [
       "array([[ 87,   0,   0,   0,   0,   0,   1,   0,   0,   0,   0,   0,   1,\n",
       "          1,   0,   0,   0,   0,   0,   0,   0,   0,   1],\n",
       "       [  0,  84,   1,   0,   0,   0,   0,   0,   0,   0,   0,   0,   1,\n",
       "          2,   0,   0,   0,   0,   0,   0,   0,   0,   0],\n",
       "       [  0,   0, 105,   0,   0,   2,   1,   0,   0,   0,   0,   0,   0,\n",
       "          1,   0,   0,   2,   0,   0,   0,   0,   0,   0],\n",
       "       [  0,   1,   0,  94,   0,   0,   0,   0,   0,   0,  11,   0,   2,\n",
       "          0,   1,   0,   0,   0,   0,   3,   0,   0,   0],\n",
       "       [  0,   0,   0,   0,  93,   3,   0,   1,   1,   0,   0,   0,   0,\n",
       "          3,   0,   0,   0,   0,   0,   1,   0,   0,   0],\n",
       "       [  0,   1,   0,   0,   0,  91,   0,   0,   1,   0,   0,   0,   1,\n",
       "          0,   0,   0,   0,   1,   0,   5,   0,   1,   0],\n",
       "       [  0,   1,   0,   0,   0,   1,  94,   1,   0,   0,   0,   0,   0,\n",
       "          1,   0,   0,   0,   0,   0,   0,   0,   0,   0],\n",
       "       [  0,   1,   0,   0,   0,   0,   2,  78,   0,   0,   0,   0,   1,\n",
       "          1,   0,   0,   0,   0,   0,   4,   0,   0,   0],\n",
       "       [  0,   1,   0,   0,   0,   2,   0,   0,  95,   0,   0,   0,   0,\n",
       "          2,   1,   0,   0,   1,   1,   3,   0,   0,   0],\n",
       "       [  0,   1,   1,   0,   0,   3,   1,   0,   0,  96,   0,   0,   0,\n",
       "          1,   0,   0,   0,   0,   0,   1,   0,   0,   0],\n",
       "       [  1,   0,   0,  25,   1,   1,   0,   0,   1,   0,  77,   0,   2,\n",
       "          1,   0,   0,   1,   0,   0,   0,   0,   0,   0],\n",
       "       [  0,   1,   0,   0,   0,   1,   1,   0,   0,   0,   0,  91,   0,\n",
       "          3,   0,   0,   0,   0,   0,   5,   0,   1,   0],\n",
       "       [  0,   0,   3,   1,   2,   3,   0,   0,   1,   0,   0,   0,  82,\n",
       "          0,   0,   1,   1,   0,   1,   3,   0,   0,   2],\n",
       "       [  0,   0,   0,   0,   0,   2,   1,   0,   0,   0,   0,   0,   4,\n",
       "         87,   0,   0,   0,   0,   0,   0,   0,   0,   0],\n",
       "       [  0,   2,   3,   0,   1,   3,   1,   0,   0,   0,   0,   0,   0,\n",
       "          7,  99,   0,   0,   1,   0,   2,   0,   0,   0],\n",
       "       [  0,   0,   0,   0,   2,   1,   0,   1,   2,   0,   0,   0,   2,\n",
       "          2,   0,  84,   0,   0,   0,   3,   0,   0,   1],\n",
       "       [  0,   1,   0,   0,   0,   4,   0,   0,   0,   0,   0,   1,   0,\n",
       "          4,   1,   0,  81,   2,   0,   4,   0,   0,   0],\n",
       "       [  0,   0,   0,   0,   0,   1,   0,   1,   0,   0,   0,   0,   0,\n",
       "          0,   0,   0,   1,  92,   0,   1,   0,   1,   0],\n",
       "       [  0,   0,   0,   0,   0,   0,   1,   1,   0,   0,   0,   0,   1,\n",
       "          1,   0,   0,   0,   1,  99,   2,   0,   0,   0],\n",
       "       [  0,   0,   0,   0,   0,   1,   0,   0,   0,   0,   0,   0,   1,\n",
       "          2,   1,   0,   0,   0,   0,  84,   0,   0,   0],\n",
       "       [  0,   0,   1,   1,   0,   2,   0,   0,   1,   1,   0,   0,   0,\n",
       "          3,   0,   1,   0,   0,   0,   2,  89,   0,   0],\n",
       "       [  0,   0,   1,   0,   0,   1,   0,   0,   0,   0,   0,   0,   0,\n",
       "          1,   0,   0,   0,   0,   0,   2,   0,  97,   0],\n",
       "       [  0,   0,   0,   1,   1,   4,   1,   0,   1,   1,   0,   0,   0,\n",
       "          0,   2,   0,   1,   0,   0,   4,   0,   0,  86]])"
      ]
     },
     "execution_count": 51,
     "metadata": {},
     "output_type": "execute_result"
    }
   ],
   "source": [
    "confusion_matrix_result"
   ]
  },
  {
   "cell_type": "code",
   "execution_count": null,
   "id": "f60ea90b-19f8-4be3-8d97-365ef4527d22",
   "metadata": {},
   "outputs": [],
   "source": []
  },
  {
   "cell_type": "code",
   "execution_count": 52,
   "id": "5f457d83-d686-4c6c-91f2-dc2809f9671e",
   "metadata": {},
   "outputs": [],
   "source": [
    "accuracy_score=accuracy_score(y_test,y_pred)"
   ]
  },
  {
   "cell_type": "code",
   "execution_count": 53,
   "id": "3eea6e99-299c-4845-9bf9-19d3babb13ed",
   "metadata": {},
   "outputs": [
    {
     "data": {
      "text/plain": [
       "0.8904700301854247"
      ]
     },
     "execution_count": 53,
     "metadata": {},
     "output_type": "execute_result"
    }
   ],
   "source": [
    "accuracy_score"
   ]
  },
  {
   "cell_type": "code",
   "execution_count": 57,
   "id": "5fb48f47-bef7-4448-b49b-c08bb39b12c2",
   "metadata": {},
   "outputs": [
    {
     "data": {
      "text/plain": [
       "'              precision    recall  f1-score   support\\n\\n           0       0.99      0.96      0.97        91\\n           1       0.89      0.95      0.92        88\\n           2       0.91      0.95      0.93       111\\n           3       0.77      0.84      0.80       112\\n           4       0.93      0.91      0.92       102\\n           5       0.72      0.90      0.80       101\\n           6       0.90      0.96      0.93        98\\n           7       0.94      0.90      0.92        87\\n           8       0.92      0.90      0.91       106\\n           9       0.98      0.92      0.95       104\\n          10       0.88      0.70      0.78       110\\n          11       0.99      0.88      0.93       103\\n          12       0.84      0.82      0.83       100\\n          13       0.71      0.93      0.80        94\\n          14       0.94      0.83      0.88       119\\n          15       0.98      0.86      0.91        98\\n          16       0.93      0.83      0.88        98\\n          17       0.94      0.95      0.94        97\\n          18       0.98      0.93      0.96       106\\n          19       0.65      0.94      0.77        89\\n          20       1.00      0.88      0.94       101\\n          21       0.97      0.95      0.96       102\\n          22       0.96      0.84      0.90       102\\n\\n    accuracy                           0.89      2319\\n   macro avg       0.90      0.89      0.89      2319\\nweighted avg       0.90      0.89      0.89      2319\\n'"
      ]
     },
     "execution_count": 57,
     "metadata": {},
     "output_type": "execute_result"
    }
   ],
   "source": [
    "classification_report(y_test,y_pred)"
   ]
  },
  {
   "cell_type": "code",
   "execution_count": 1,
   "id": "3fa5e91d-94e6-495f-87d8-c516ed22a6cc",
   "metadata": {},
   "outputs": [
    {
     "name": "stdout",
     "output_type": "stream",
     "text": [
      "25\n"
     ]
    }
   ],
   "source": [
    "print(25)"
   ]
  },
  {
   "cell_type": "code",
   "execution_count": 16,
   "id": "586f1b84-ae5a-4679-8cd7-50100e7e8204",
   "metadata": {},
   "outputs": [],
   "source": [
    "from lazypredict.Supervised import LazyClassifier\n"
   ]
  },
  {
   "cell_type": "code",
   "execution_count": 17,
   "id": "67392999-b195-4e93-9319-f399fe8944c6",
   "metadata": {},
   "outputs": [
    {
     "name": "stderr",
     "output_type": "stream",
     "text": [
      " 97%|█████████▋| 28/29 [1:23:24<04:38, 278.28s/it]"
     ]
    },
    {
     "name": "stdout",
     "output_type": "stream",
     "text": [
      "[LightGBM] [Warning] Auto-choosing col-wise multi-threading, the overhead of testing was 0.051295 seconds.\n",
      "You can set `force_col_wise=true` to remove the overhead.\n",
      "[LightGBM] [Info] Total Bins 127500\n",
      "[LightGBM] [Info] Number of data points in the train set: 20865, number of used features: 500\n",
      "[LightGBM] [Info] Start training from score -3.124721\n",
      "[LightGBM] [Info] Start training from score -3.121455\n",
      "[LightGBM] [Info] Start training from score -3.146773\n",
      "[LightGBM] [Info] Start training from score -3.147888\n",
      "[LightGBM] [Info] Start training from score -3.136789\n",
      "[LightGBM] [Info] Start training from score -3.135686\n",
      "[LightGBM] [Info] Start training from score -3.132384\n",
      "[LightGBM] [Info] Start training from score -3.120368\n",
      "[LightGBM] [Info] Start training from score -3.141214\n",
      "[LightGBM] [Info] Start training from score -3.138999\n",
      "[LightGBM] [Info] Start training from score -3.145658\n",
      "[LightGBM] [Info] Start training from score -3.137893\n",
      "[LightGBM] [Info] Start training from score -3.134584\n",
      "[LightGBM] [Info] Start training from score -3.127998\n",
      "[LightGBM] [Info] Start training from score -3.155731\n",
      "[LightGBM] [Info] Start training from score -3.132384\n",
      "[LightGBM] [Info] Start training from score -3.132384\n",
      "[LightGBM] [Info] Start training from score -3.131285\n",
      "[LightGBM] [Info] Start training from score -3.141214\n",
      "[LightGBM] [Info] Start training from score -3.122542\n",
      "[LightGBM] [Info] Start training from score -3.135686\n",
      "[LightGBM] [Info] Start training from score -3.136789\n",
      "[LightGBM] [Info] Start training from score -3.136789\n"
     ]
    },
    {
     "name": "stderr",
     "output_type": "stream",
     "text": [
      "100%|██████████| 29/29 [1:24:42<00:00, 175.24s/it]\n"
     ]
    }
   ],
   "source": [
    "clf= LazyClassifier(verbose=0,ignore_warnings=True, custom_metric=None)\n",
    "models,predictions = clf.fit(X_train,X_test,y_train,y_test)"
   ]
  },
  {
   "cell_type": "code",
   "execution_count": 18,
   "id": "9c4e0853-ead5-4fbe-8c77-b5e5da010d52",
   "metadata": {},
   "outputs": [
    {
     "data": {
      "text/html": [
       "<div>\n",
       "<style scoped>\n",
       "    .dataframe tbody tr th:only-of-type {\n",
       "        vertical-align: middle;\n",
       "    }\n",
       "\n",
       "    .dataframe tbody tr th {\n",
       "        vertical-align: top;\n",
       "    }\n",
       "\n",
       "    .dataframe thead th {\n",
       "        text-align: right;\n",
       "    }\n",
       "</style>\n",
       "<table border=\"1\" class=\"dataframe\">\n",
       "  <thead>\n",
       "    <tr style=\"text-align: right;\">\n",
       "      <th></th>\n",
       "      <th>Accuracy</th>\n",
       "      <th>Balanced Accuracy</th>\n",
       "      <th>ROC AUC</th>\n",
       "      <th>F1 Score</th>\n",
       "      <th>Time Taken</th>\n",
       "    </tr>\n",
       "    <tr>\n",
       "      <th>Model</th>\n",
       "      <th></th>\n",
       "      <th></th>\n",
       "      <th></th>\n",
       "      <th></th>\n",
       "      <th></th>\n",
       "    </tr>\n",
       "  </thead>\n",
       "  <tbody>\n",
       "    <tr>\n",
       "      <th>QuadraticDiscriminantAnalysis</th>\n",
       "      <td>0.89</td>\n",
       "      <td>0.89</td>\n",
       "      <td>None</td>\n",
       "      <td>0.89</td>\n",
       "      <td>3.95</td>\n",
       "    </tr>\n",
       "    <tr>\n",
       "      <th>LGBMClassifier</th>\n",
       "      <td>0.81</td>\n",
       "      <td>0.81</td>\n",
       "      <td>None</td>\n",
       "      <td>0.81</td>\n",
       "      <td>77.99</td>\n",
       "    </tr>\n",
       "    <tr>\n",
       "      <th>XGBClassifier</th>\n",
       "      <td>0.81</td>\n",
       "      <td>0.81</td>\n",
       "      <td>None</td>\n",
       "      <td>0.81</td>\n",
       "      <td>981.08</td>\n",
       "    </tr>\n",
       "    <tr>\n",
       "      <th>ExtraTreesClassifier</th>\n",
       "      <td>0.81</td>\n",
       "      <td>0.81</td>\n",
       "      <td>None</td>\n",
       "      <td>0.81</td>\n",
       "      <td>19.12</td>\n",
       "    </tr>\n",
       "    <tr>\n",
       "      <th>KNeighborsClassifier</th>\n",
       "      <td>0.80</td>\n",
       "      <td>0.80</td>\n",
       "      <td>None</td>\n",
       "      <td>0.81</td>\n",
       "      <td>1.11</td>\n",
       "    </tr>\n",
       "    <tr>\n",
       "      <th>RandomForestClassifier</th>\n",
       "      <td>0.80</td>\n",
       "      <td>0.80</td>\n",
       "      <td>None</td>\n",
       "      <td>0.80</td>\n",
       "      <td>102.68</td>\n",
       "    </tr>\n",
       "    <tr>\n",
       "      <th>SVC</th>\n",
       "      <td>0.79</td>\n",
       "      <td>0.79</td>\n",
       "      <td>None</td>\n",
       "      <td>0.80</td>\n",
       "      <td>195.11</td>\n",
       "    </tr>\n",
       "    <tr>\n",
       "      <th>NuSVC</th>\n",
       "      <td>0.78</td>\n",
       "      <td>0.78</td>\n",
       "      <td>None</td>\n",
       "      <td>0.79</td>\n",
       "      <td>217.52</td>\n",
       "    </tr>\n",
       "    <tr>\n",
       "      <th>BaggingClassifier</th>\n",
       "      <td>0.67</td>\n",
       "      <td>0.67</td>\n",
       "      <td>None</td>\n",
       "      <td>0.67</td>\n",
       "      <td>241.17</td>\n",
       "    </tr>\n",
       "    <tr>\n",
       "      <th>LabelPropagation</th>\n",
       "      <td>0.58</td>\n",
       "      <td>0.59</td>\n",
       "      <td>None</td>\n",
       "      <td>0.70</td>\n",
       "      <td>17.90</td>\n",
       "    </tr>\n",
       "    <tr>\n",
       "      <th>LabelSpreading</th>\n",
       "      <td>0.58</td>\n",
       "      <td>0.59</td>\n",
       "      <td>None</td>\n",
       "      <td>0.70</td>\n",
       "      <td>34.87</td>\n",
       "    </tr>\n",
       "    <tr>\n",
       "      <th>DecisionTreeClassifier</th>\n",
       "      <td>0.58</td>\n",
       "      <td>0.59</td>\n",
       "      <td>None</td>\n",
       "      <td>0.59</td>\n",
       "      <td>33.40</td>\n",
       "    </tr>\n",
       "    <tr>\n",
       "      <th>ExtraTreeClassifier</th>\n",
       "      <td>0.55</td>\n",
       "      <td>0.55</td>\n",
       "      <td>None</td>\n",
       "      <td>0.55</td>\n",
       "      <td>0.77</td>\n",
       "    </tr>\n",
       "    <tr>\n",
       "      <th>LogisticRegression</th>\n",
       "      <td>0.34</td>\n",
       "      <td>0.35</td>\n",
       "      <td>None</td>\n",
       "      <td>0.34</td>\n",
       "      <td>8.94</td>\n",
       "    </tr>\n",
       "    <tr>\n",
       "      <th>CalibratedClassifierCV</th>\n",
       "      <td>0.34</td>\n",
       "      <td>0.34</td>\n",
       "      <td>None</td>\n",
       "      <td>0.33</td>\n",
       "      <td>2309.42</td>\n",
       "    </tr>\n",
       "    <tr>\n",
       "      <th>RidgeClassifier</th>\n",
       "      <td>0.33</td>\n",
       "      <td>0.33</td>\n",
       "      <td>None</td>\n",
       "      <td>0.32</td>\n",
       "      <td>1.02</td>\n",
       "    </tr>\n",
       "    <tr>\n",
       "      <th>RidgeClassifierCV</th>\n",
       "      <td>0.33</td>\n",
       "      <td>0.33</td>\n",
       "      <td>None</td>\n",
       "      <td>0.32</td>\n",
       "      <td>2.34</td>\n",
       "    </tr>\n",
       "    <tr>\n",
       "      <th>LinearDiscriminantAnalysis</th>\n",
       "      <td>0.33</td>\n",
       "      <td>0.33</td>\n",
       "      <td>None</td>\n",
       "      <td>0.33</td>\n",
       "      <td>2.91</td>\n",
       "    </tr>\n",
       "    <tr>\n",
       "      <th>NearestCentroid</th>\n",
       "      <td>0.32</td>\n",
       "      <td>0.32</td>\n",
       "      <td>None</td>\n",
       "      <td>0.33</td>\n",
       "      <td>0.71</td>\n",
       "    </tr>\n",
       "    <tr>\n",
       "      <th>LinearSVC</th>\n",
       "      <td>0.31</td>\n",
       "      <td>0.31</td>\n",
       "      <td>None</td>\n",
       "      <td>0.31</td>\n",
       "      <td>616.96</td>\n",
       "    </tr>\n",
       "    <tr>\n",
       "      <th>SGDClassifier</th>\n",
       "      <td>0.30</td>\n",
       "      <td>0.30</td>\n",
       "      <td>None</td>\n",
       "      <td>0.29</td>\n",
       "      <td>101.68</td>\n",
       "    </tr>\n",
       "    <tr>\n",
       "      <th>BernoulliNB</th>\n",
       "      <td>0.25</td>\n",
       "      <td>0.25</td>\n",
       "      <td>None</td>\n",
       "      <td>0.24</td>\n",
       "      <td>0.93</td>\n",
       "    </tr>\n",
       "    <tr>\n",
       "      <th>PassiveAggressiveClassifier</th>\n",
       "      <td>0.24</td>\n",
       "      <td>0.24</td>\n",
       "      <td>None</td>\n",
       "      <td>0.24</td>\n",
       "      <td>9.20</td>\n",
       "    </tr>\n",
       "    <tr>\n",
       "      <th>Perceptron</th>\n",
       "      <td>0.24</td>\n",
       "      <td>0.24</td>\n",
       "      <td>None</td>\n",
       "      <td>0.24</td>\n",
       "      <td>5.02</td>\n",
       "    </tr>\n",
       "    <tr>\n",
       "      <th>GaussianNB</th>\n",
       "      <td>0.17</td>\n",
       "      <td>0.17</td>\n",
       "      <td>None</td>\n",
       "      <td>0.17</td>\n",
       "      <td>0.85</td>\n",
       "    </tr>\n",
       "    <tr>\n",
       "      <th>AdaBoostClassifier</th>\n",
       "      <td>0.13</td>\n",
       "      <td>0.13</td>\n",
       "      <td>None</td>\n",
       "      <td>0.11</td>\n",
       "      <td>94.17</td>\n",
       "    </tr>\n",
       "    <tr>\n",
       "      <th>DummyClassifier</th>\n",
       "      <td>0.04</td>\n",
       "      <td>0.04</td>\n",
       "      <td>None</td>\n",
       "      <td>0.00</td>\n",
       "      <td>0.57</td>\n",
       "    </tr>\n",
       "  </tbody>\n",
       "</table>\n",
       "</div>"
      ],
      "text/plain": [
       "                               Accuracy  Balanced Accuracy ROC AUC  F1 Score  \\\n",
       "Model                                                                          \n",
       "QuadraticDiscriminantAnalysis      0.89               0.89    None      0.89   \n",
       "LGBMClassifier                     0.81               0.81    None      0.81   \n",
       "XGBClassifier                      0.81               0.81    None      0.81   \n",
       "ExtraTreesClassifier               0.81               0.81    None      0.81   \n",
       "KNeighborsClassifier               0.80               0.80    None      0.81   \n",
       "RandomForestClassifier             0.80               0.80    None      0.80   \n",
       "SVC                                0.79               0.79    None      0.80   \n",
       "NuSVC                              0.78               0.78    None      0.79   \n",
       "BaggingClassifier                  0.67               0.67    None      0.67   \n",
       "LabelPropagation                   0.58               0.59    None      0.70   \n",
       "LabelSpreading                     0.58               0.59    None      0.70   \n",
       "DecisionTreeClassifier             0.58               0.59    None      0.59   \n",
       "ExtraTreeClassifier                0.55               0.55    None      0.55   \n",
       "LogisticRegression                 0.34               0.35    None      0.34   \n",
       "CalibratedClassifierCV             0.34               0.34    None      0.33   \n",
       "RidgeClassifier                    0.33               0.33    None      0.32   \n",
       "RidgeClassifierCV                  0.33               0.33    None      0.32   \n",
       "LinearDiscriminantAnalysis         0.33               0.33    None      0.33   \n",
       "NearestCentroid                    0.32               0.32    None      0.33   \n",
       "LinearSVC                          0.31               0.31    None      0.31   \n",
       "SGDClassifier                      0.30               0.30    None      0.29   \n",
       "BernoulliNB                        0.25               0.25    None      0.24   \n",
       "PassiveAggressiveClassifier        0.24               0.24    None      0.24   \n",
       "Perceptron                         0.24               0.24    None      0.24   \n",
       "GaussianNB                         0.17               0.17    None      0.17   \n",
       "AdaBoostClassifier                 0.13               0.13    None      0.11   \n",
       "DummyClassifier                    0.04               0.04    None      0.00   \n",
       "\n",
       "                               Time Taken  \n",
       "Model                                      \n",
       "QuadraticDiscriminantAnalysis        3.95  \n",
       "LGBMClassifier                      77.99  \n",
       "XGBClassifier                      981.08  \n",
       "ExtraTreesClassifier                19.12  \n",
       "KNeighborsClassifier                 1.11  \n",
       "RandomForestClassifier             102.68  \n",
       "SVC                                195.11  \n",
       "NuSVC                              217.52  \n",
       "BaggingClassifier                  241.17  \n",
       "LabelPropagation                    17.90  \n",
       "LabelSpreading                      34.87  \n",
       "DecisionTreeClassifier              33.40  \n",
       "ExtraTreeClassifier                  0.77  \n",
       "LogisticRegression                   8.94  \n",
       "CalibratedClassifierCV            2309.42  \n",
       "RidgeClassifier                      1.02  \n",
       "RidgeClassifierCV                    2.34  \n",
       "LinearDiscriminantAnalysis           2.91  \n",
       "NearestCentroid                      0.71  \n",
       "LinearSVC                          616.96  \n",
       "SGDClassifier                      101.68  \n",
       "BernoulliNB                          0.93  \n",
       "PassiveAggressiveClassifier          9.20  \n",
       "Perceptron                           5.02  \n",
       "GaussianNB                           0.85  \n",
       "AdaBoostClassifier                  94.17  \n",
       "DummyClassifier                      0.57  "
      ]
     },
     "execution_count": 18,
     "metadata": {},
     "output_type": "execute_result"
    }
   ],
   "source": [
    "predictions"
   ]
  },
  {
   "cell_type": "code",
   "execution_count": null,
   "id": "0fe9fb46-1fe2-4275-8555-91a9eeb1a357",
   "metadata": {},
   "outputs": [],
   "source": []
  }
 ],
 "metadata": {
  "environment": {
   "kernel": "python3",
   "name": "tf2-gpu.2-11.m109",
   "type": "gcloud",
   "uri": "gcr.io/deeplearning-platform-release/tf2-gpu.2-11:m109"
  },
  "kernelspec": {
   "display_name": "Python 3",
   "language": "python",
   "name": "python3"
  },
  "language_info": {
   "codemirror_mode": {
    "name": "ipython",
    "version": 3
   },
   "file_extension": ".py",
   "mimetype": "text/x-python",
   "name": "python",
   "nbconvert_exporter": "python",
   "pygments_lexer": "ipython3",
   "version": "3.10.11"
  }
 },
 "nbformat": 4,
 "nbformat_minor": 5
}
