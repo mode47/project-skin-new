{
 "cells": [
  {
   "cell_type": "code",
   "execution_count": 1,
   "id": "ff71b836-e534-4495-bb53-6c9cd7b4f691",
   "metadata": {},
   "outputs": [],
   "source": [
    "import pandas as pd\n",
    "import os\n",
    "def data_dictionary():\n",
    "    path_train=\"dataset/\"\n",
    "    list_train=os.listdir(path_train)\n",
    "    train_dictionary={\"image_path\":[],\"target\":[]}\n",
    "    k=0\n",
    "    for i in list_train:\n",
    "        path_disease_train=path_train+i\n",
    "        image_list_train=os.listdir(path_disease_train)\n",
    "        for j in image_list_train:\n",
    "            img_path_train=path_disease_train+\"/\"+j   \n",
    "            train_dictionary[\"image_path\"].append(img_path_train)\n",
    "            train_dictionary['target'].append(k)     \n",
    "        k+=1\n",
    "    train_df=pd.DataFrame(train_dictionary)\n",
    "    return  train_df"
   ]
  },
  {
   "cell_type": "code",
   "execution_count": 2,
   "id": "63d44140-9983-471f-b020-afc63e75c9a0",
   "metadata": {},
   "outputs": [],
   "source": [
    "data=data_dictionary()"
   ]
  },
  {
   "cell_type": "code",
   "execution_count": 3,
   "id": "11e02e9c-c720-4032-978d-8c2b55597cf6",
   "metadata": {},
   "outputs": [],
   "source": [
    "import cv2\n",
    "from sklearn.svm import LinearSVC\n",
    "from sklearn.model_selection import train_test_split\n",
    "from sklearn.metrics import accuracy_score\n",
    "from skimage.feature import hog"
   ]
  },
  {
   "cell_type": "code",
   "execution_count": 4,
   "id": "a2acf568-2ff3-474d-91d8-107846c37e35",
   "metadata": {},
   "outputs": [
    {
     "name": "stderr",
     "output_type": "stream",
     "text": [
      "2023-07-25 11:03:02.399645: I tensorflow/core/platform/cpu_feature_guard.cc:193] This TensorFlow binary is optimized with oneAPI Deep Neural Network Library (oneDNN) to use the following CPU instructions in performance-critical operations:  AVX2 FMA\n",
      "To enable them in other operations, rebuild TensorFlow with the appropriate compiler flags.\n",
      "2023-07-25 11:03:06.377133: W tensorflow/compiler/xla/stream_executor/platform/default/dso_loader.cc:64] Could not load dynamic library 'libnvinfer.so.7'; dlerror: libnvinfer.so.7: cannot open shared object file: No such file or directory; LD_LIBRARY_PATH: /opt/conda/lib/python3.10/site-packages/cv2/../../lib64:/usr/local/cuda/lib64:/usr/local/nccl2/lib:/usr/local/cuda/extras/CUPTI/lib64\n",
      "2023-07-25 11:03:06.378192: W tensorflow/compiler/xla/stream_executor/platform/default/dso_loader.cc:64] Could not load dynamic library 'libnvinfer_plugin.so.7'; dlerror: libnvinfer_plugin.so.7: cannot open shared object file: No such file or directory; LD_LIBRARY_PATH: /opt/conda/lib/python3.10/site-packages/cv2/../../lib64:/usr/local/cuda/lib64:/usr/local/nccl2/lib:/usr/local/cuda/extras/CUPTI/lib64\n",
      "2023-07-25 11:03:06.378208: W tensorflow/compiler/tf2tensorrt/utils/py_utils.cc:38] TF-TRT Warning: Cannot dlopen some TensorRT libraries. If you would like to use Nvidia GPU with TensorRT, please make sure the missing libraries mentioned above are installed properly.\n"
     ]
    }
   ],
   "source": [
    "\n",
    "from tensorflow.keras.applications.vgg19 import VGG19, preprocess_input\n",
    "from tensorflow.keras.preprocessing.image import load_img, img_to_array"
   ]
  },
  {
   "cell_type": "code",
   "execution_count": 5,
   "id": "b7feb4a6-c65b-48b3-8257-1658bb6b2cf1",
   "metadata": {},
   "outputs": [],
   "source": [
    "import numpy as np \n",
    "images=[]\n",
    "\n",
    "for i in data['image_path']:\n",
    "    img = load_img(i, target_size=(100, 100))\n",
    "    x = img_to_array(img)\n",
    "    x = np.expand_dims(x, axis=0)\n",
    "    x = preprocess_input(x)\n",
    "    images.append(x)\n",
    "    \n",
    "    "
   ]
  },
  {
   "cell_type": "code",
   "execution_count": 6,
   "id": "ed99ff0f-5d3b-42bd-a4d2-cd303601a10a",
   "metadata": {},
   "outputs": [],
   "source": [
    "dataset=np.array(images)"
   ]
  },
  {
   "cell_type": "code",
   "execution_count": 7,
   "id": "30866a45-f44b-4e03-8130-2e8d9ed1db63",
   "metadata": {},
   "outputs": [],
   "source": [
    "lable=data['target']"
   ]
  },
  {
   "cell_type": "code",
   "execution_count": 8,
   "id": "4f477873-96a6-4745-8ddc-5fa072df0da3",
   "metadata": {},
   "outputs": [
    {
     "data": {
      "text/plain": [
       "(23184, 1, 100, 100, 3)"
      ]
     },
     "execution_count": 8,
     "metadata": {},
     "output_type": "execute_result"
    }
   ],
   "source": [
    "dataset.shape"
   ]
  },
  {
   "cell_type": "code",
   "execution_count": 9,
   "id": "5412c230-409b-4c5d-a0c9-dc2b30d43115",
   "metadata": {},
   "outputs": [],
   "source": [
    "lable=np.array(lable)"
   ]
  },
  {
   "cell_type": "code",
   "execution_count": 10,
   "id": "480a5f22-7ee1-42e3-9013-23f1420497ea",
   "metadata": {},
   "outputs": [
    {
     "name": "stderr",
     "output_type": "stream",
     "text": [
      "2023-07-25 11:12:11.127334: W tensorflow/compiler/xla/stream_executor/platform/default/dso_loader.cc:64] Could not load dynamic library 'libcuda.so.1'; dlerror: libcuda.so.1: cannot open shared object file: No such file or directory; LD_LIBRARY_PATH: /opt/conda/lib/python3.10/site-packages/cv2/../../lib64:/usr/local/cuda/lib64:/usr/local/nccl2/lib:/usr/local/cuda/extras/CUPTI/lib64\n",
      "2023-07-25 11:12:11.127411: W tensorflow/compiler/xla/stream_executor/cuda/cuda_driver.cc:265] failed call to cuInit: UNKNOWN ERROR (303)\n",
      "2023-07-25 11:12:11.127451: I tensorflow/compiler/xla/stream_executor/cuda/cuda_diagnostics.cc:156] kernel driver does not appear to be running on this host (tensorflow-2-11-20230720-122152): /proc/driver/nvidia/version does not exist\n",
      "2023-07-25 11:12:11.129047: I tensorflow/core/platform/cpu_feature_guard.cc:193] This TensorFlow binary is optimized with oneAPI Deep Neural Network Library (oneDNN) to use the following CPU instructions in performance-critical operations:  AVX2 FMA\n",
      "To enable them in other operations, rebuild TensorFlow with the appropriate compiler flags.\n"
     ]
    }
   ],
   "source": [
    "import tensorflow as tf\n",
    "EFFModel=tf.keras.applications.VGG19( weights = 'imagenet',  include_top = False, input_shape = (100,100 ,3))"
   ]
  },
  {
   "cell_type": "code",
   "execution_count": 11,
   "id": "25759afa-9129-43af-b8ea-25f9081b8d0a",
   "metadata": {},
   "outputs": [],
   "source": [
    "del images\n",
    "del data\n"
   ]
  },
  {
   "cell_type": "code",
   "execution_count": 12,
   "id": "daca486c-5cd1-4ee6-90d5-3047b7e67daf",
   "metadata": {},
   "outputs": [],
   "source": [
    "dataset = np.reshape(dataset, (23184, 100, 100, 3))"
   ]
  },
  {
   "cell_type": "code",
   "execution_count": 13,
   "id": "4d7d6af4-024c-477c-8409-0af62a5639f4",
   "metadata": {},
   "outputs": [],
   "source": [
    "from tensorflow.keras.models import Sequential\n",
    "from tensorflow.keras.layers import Conv2D,MaxPooling2D,Flatten, Dense\n"
   ]
  },
  {
   "cell_type": "code",
   "execution_count": 14,
   "id": "3f08fbcb-dd9b-4504-bfc5-8ddf68064142",
   "metadata": {},
   "outputs": [],
   "source": [
    "model=Sequential([ \n",
    "                   \n",
    "                    Dense(200,activation='relu'),\n",
    "                  Dense(100,activation='relu'),\n",
    "                  Dense(23,activation='softmax'),\n",
    "\n",
    "])"
   ]
  },
  {
   "cell_type": "code",
   "execution_count": 15,
   "id": "be37f475-ee9b-46a4-9c25-dc7c48135441",
   "metadata": {},
   "outputs": [],
   "source": [
    "from keras.callbacks import ModelCheckpoint, ReduceLROnPlateau"
   ]
  },
  {
   "cell_type": "code",
   "execution_count": 16,
   "id": "620aa39f-9d0c-4028-8e04-f8f0a14a02d2",
   "metadata": {},
   "outputs": [],
   "source": [
    "mcp_save = ModelCheckpoint('EnetB0_CIFAR10_TL.h5', save_best_only=True, monitor='val_acc')\n",
    "reduce_lr = ReduceLROnPlateau(monitor='val_acc', factor=0.5, patience=2, verbose=1,)\n",
    "model.compile(optimizer='adam',loss='categorical_crossentropy',metrics=['accuracy'])\n",
    "from sklearn.model_selection import KFold \n",
    "from sklearn.model_selection import train_test_split "
   ]
  },
  {
   "cell_type": "code",
   "execution_count": 17,
   "id": "6865ad75-a299-40e6-a72f-f4bd77556b9d",
   "metadata": {},
   "outputs": [],
   "source": [
    "import keras\n",
    "acc=[]\n",
    "num_classes = 23\n",
    "lable = keras.utils.to_categorical(lable, num_classes)"
   ]
  },
  {
   "cell_type": "code",
   "execution_count": 20,
   "id": "c71415ff-8c61-4284-817f-4731f06163ea",
   "metadata": {},
   "outputs": [
    {
     "data": {
      "text/plain": [
       "(20865, 3, 3, 512)"
      ]
     },
     "execution_count": 20,
     "metadata": {},
     "output_type": "execute_result"
    }
   ],
   "source": [
    "features_train.shape"
   ]
  },
  {
   "cell_type": "code",
   "execution_count": 21,
   "id": "3bfd5043-2df4-4d83-a16f-872c5137da57",
   "metadata": {},
   "outputs": [],
   "source": [
    "x_test=features_test.reshape(num_test,-1)\n",
    "x_train=features_train.reshape(num_train,-1)"
   ]
  },
  {
   "cell_type": "code",
   "execution_count": 23,
   "id": "0106737c-d2a6-4c7a-a126-751049450fff",
   "metadata": {},
   "outputs": [
    {
     "name": "stdout",
     "output_type": "stream",
     "text": [
      "Epoch 1/20\n",
      "1305/1305 [==============================] - 7s 5ms/step - loss: 0.1915 - accuracy: 0.9430 - val_loss: 0.7319 - val_accuracy: 0.8607\n",
      "Epoch 2/20\n",
      "1305/1305 [==============================] - 7s 5ms/step - loss: 0.2154 - accuracy: 0.9369 - val_loss: 0.5395 - val_accuracy: 0.8969\n",
      "Epoch 3/20\n",
      "1305/1305 [==============================] - 7s 5ms/step - loss: 0.1881 - accuracy: 0.9478 - val_loss: 0.5670 - val_accuracy: 0.8767\n",
      "Epoch 4/20\n",
      "1305/1305 [==============================] - 7s 5ms/step - loss: 0.1950 - accuracy: 0.9459 - val_loss: 0.5790 - val_accuracy: 0.8853\n",
      "Epoch 5/20\n",
      "1305/1305 [==============================] - 7s 5ms/step - loss: 0.1800 - accuracy: 0.9503 - val_loss: 0.6156 - val_accuracy: 0.8831\n",
      "Epoch 6/20\n",
      "1305/1305 [==============================] - 7s 5ms/step - loss: 0.1905 - accuracy: 0.9509 - val_loss: 0.6998 - val_accuracy: 0.8767\n",
      "Epoch 7/20\n",
      "1305/1305 [==============================] - 7s 5ms/step - loss: 0.1697 - accuracy: 0.9586 - val_loss: 0.5306 - val_accuracy: 0.9000\n",
      "Epoch 8/20\n",
      "1305/1305 [==============================] - 7s 5ms/step - loss: 0.1699 - accuracy: 0.9560 - val_loss: 0.7425 - val_accuracy: 0.8900\n",
      "Epoch 9/20\n",
      "1305/1305 [==============================] - 7s 5ms/step - loss: 0.1656 - accuracy: 0.9593 - val_loss: 0.7936 - val_accuracy: 0.8775\n",
      "Epoch 10/20\n",
      "1305/1305 [==============================] - 6s 5ms/step - loss: 0.1647 - accuracy: 0.9565 - val_loss: 0.6852 - val_accuracy: 0.9038\n",
      "Epoch 11/20\n",
      "1305/1305 [==============================] - 7s 5ms/step - loss: 0.1772 - accuracy: 0.9564 - val_loss: 0.6635 - val_accuracy: 0.9013\n",
      "Epoch 12/20\n",
      "1305/1305 [==============================] - 7s 6ms/step - loss: 0.1370 - accuracy: 0.9655 - val_loss: 0.7252 - val_accuracy: 0.8965\n",
      "Epoch 13/20\n",
      "1305/1305 [==============================] - 7s 5ms/step - loss: 0.1518 - accuracy: 0.9627 - val_loss: 0.7688 - val_accuracy: 0.8922\n",
      "Epoch 14/20\n",
      "1305/1305 [==============================] - 7s 5ms/step - loss: 0.1292 - accuracy: 0.9684 - val_loss: 0.7891 - val_accuracy: 0.8909\n",
      "Epoch 15/20\n",
      "1305/1305 [==============================] - 7s 5ms/step - loss: 0.1473 - accuracy: 0.9644 - val_loss: 0.7796 - val_accuracy: 0.9142\n",
      "Epoch 16/20\n",
      "1305/1305 [==============================] - 7s 5ms/step - loss: 0.1483 - accuracy: 0.9647 - val_loss: 0.8104 - val_accuracy: 0.9038\n",
      "Epoch 17/20\n",
      "1305/1305 [==============================] - 7s 5ms/step - loss: 0.1446 - accuracy: 0.9663 - val_loss: 0.8077 - val_accuracy: 0.9064\n",
      "Epoch 18/20\n",
      "1305/1305 [==============================] - 7s 5ms/step - loss: 0.1295 - accuracy: 0.9687 - val_loss: 1.2972 - val_accuracy: 0.8840\n",
      "Epoch 19/20\n",
      "1305/1305 [==============================] - 7s 5ms/step - loss: 0.1565 - accuracy: 0.9665 - val_loss: 0.9357 - val_accuracy: 0.9086\n",
      "Epoch 20/20\n",
      "1305/1305 [==============================] - 7s 5ms/step - loss: 0.1308 - accuracy: 0.9714 - val_loss: 0.8841 - val_accuracy: 0.9077\n",
      "Epoch 1/20\n",
      "1305/1305 [==============================] - 7s 5ms/step - loss: 0.1681 - accuracy: 0.9654 - val_loss: 1.0295 - val_accuracy: 0.8982\n",
      "Epoch 2/20\n",
      "1305/1305 [==============================] - 7s 5ms/step - loss: 0.1352 - accuracy: 0.9727 - val_loss: 0.8585 - val_accuracy: 0.9107\n",
      "Epoch 3/20\n",
      "1305/1305 [==============================] - 7s 5ms/step - loss: 0.1456 - accuracy: 0.9711 - val_loss: 0.6356 - val_accuracy: 0.9181\n",
      "Epoch 4/20\n",
      "1305/1305 [==============================] - 7s 5ms/step - loss: 0.1179 - accuracy: 0.9732 - val_loss: 0.8511 - val_accuracy: 0.9107\n",
      "Epoch 5/20\n",
      "1305/1305 [==============================] - 6s 5ms/step - loss: 0.1460 - accuracy: 0.9726 - val_loss: 0.8885 - val_accuracy: 0.9073\n",
      "Epoch 6/20\n",
      "1305/1305 [==============================] - 7s 5ms/step - loss: 0.1193 - accuracy: 0.9750 - val_loss: 0.9912 - val_accuracy: 0.9172\n",
      "Epoch 7/20\n",
      "1305/1305 [==============================] - 7s 5ms/step - loss: 0.1574 - accuracy: 0.9713 - val_loss: 0.9315 - val_accuracy: 0.9013\n",
      "Epoch 8/20\n",
      "1305/1305 [==============================] - 7s 5ms/step - loss: 0.1606 - accuracy: 0.9701 - val_loss: 0.9773 - val_accuracy: 0.9198\n",
      "Epoch 9/20\n",
      "1305/1305 [==============================] - 6s 5ms/step - loss: 0.1257 - accuracy: 0.9758 - val_loss: 1.0506 - val_accuracy: 0.9090\n",
      "Epoch 10/20\n",
      "1305/1305 [==============================] - 7s 5ms/step - loss: 0.1244 - accuracy: 0.9752 - val_loss: 1.2289 - val_accuracy: 0.9107\n",
      "Epoch 11/20\n",
      "1305/1305 [==============================] - 6s 5ms/step - loss: 0.1329 - accuracy: 0.9746 - val_loss: 1.2769 - val_accuracy: 0.8974\n",
      "Epoch 12/20\n",
      "1305/1305 [==============================] - 7s 5ms/step - loss: 0.1158 - accuracy: 0.9764 - val_loss: 0.9653 - val_accuracy: 0.9228\n",
      "Epoch 13/20\n",
      "1305/1305 [==============================] - 7s 6ms/step - loss: 0.1370 - accuracy: 0.9736 - val_loss: 0.9556 - val_accuracy: 0.9211\n",
      "Epoch 14/20\n",
      "1305/1305 [==============================] - 7s 6ms/step - loss: 0.1243 - accuracy: 0.9771 - val_loss: 1.3219 - val_accuracy: 0.9112\n",
      "Epoch 15/20\n",
      "1305/1305 [==============================] - 7s 5ms/step - loss: 0.1370 - accuracy: 0.9755 - val_loss: 1.1325 - val_accuracy: 0.9194\n",
      "Epoch 16/20\n",
      "1305/1305 [==============================] - 6s 5ms/step - loss: 0.1240 - accuracy: 0.9776 - val_loss: 1.2224 - val_accuracy: 0.9176\n",
      "Epoch 17/20\n",
      "1305/1305 [==============================] - 7s 5ms/step - loss: 0.1279 - accuracy: 0.9772 - val_loss: 1.4373 - val_accuracy: 0.9146\n",
      "Epoch 18/20\n",
      "1305/1305 [==============================] - 7s 5ms/step - loss: 0.1259 - accuracy: 0.9790 - val_loss: 1.0940 - val_accuracy: 0.9276\n",
      "Epoch 19/20\n",
      "1305/1305 [==============================] - 7s 5ms/step - loss: 0.1197 - accuracy: 0.9783 - val_loss: 1.5265 - val_accuracy: 0.9069\n",
      "Epoch 20/20\n",
      "1305/1305 [==============================] - 7s 5ms/step - loss: 0.1297 - accuracy: 0.9772 - val_loss: 1.1275 - val_accuracy: 0.9323\n",
      "Epoch 1/20\n",
      "1305/1305 [==============================] - 7s 5ms/step - loss: 0.1354 - accuracy: 0.9791 - val_loss: 1.1561 - val_accuracy: 0.9306\n",
      "Epoch 2/20\n",
      "1305/1305 [==============================] - 7s 5ms/step - loss: 0.1272 - accuracy: 0.9773 - val_loss: 1.0849 - val_accuracy: 0.9362\n",
      "Epoch 3/20\n",
      "1305/1305 [==============================] - 7s 5ms/step - loss: 0.1192 - accuracy: 0.9798 - val_loss: 1.1031 - val_accuracy: 0.9185\n",
      "Epoch 4/20\n",
      "1305/1305 [==============================] - 6s 5ms/step - loss: 0.1203 - accuracy: 0.9793 - val_loss: 1.5649 - val_accuracy: 0.9047\n",
      "Epoch 5/20\n",
      "1305/1305 [==============================] - 6s 5ms/step - loss: 0.1278 - accuracy: 0.9796 - val_loss: 1.6061 - val_accuracy: 0.9090\n",
      "Epoch 6/20\n",
      "1305/1305 [==============================] - 7s 5ms/step - loss: 0.1571 - accuracy: 0.9766 - val_loss: 1.2215 - val_accuracy: 0.9219\n",
      "Epoch 7/20\n",
      "1305/1305 [==============================] - 7s 5ms/step - loss: 0.1160 - accuracy: 0.9802 - val_loss: 1.3986 - val_accuracy: 0.9254\n",
      "Epoch 8/20\n",
      "1305/1305 [==============================] - 7s 5ms/step - loss: 0.0994 - accuracy: 0.9822 - val_loss: 1.5811 - val_accuracy: 0.9237\n",
      "Epoch 9/20\n",
      "1305/1305 [==============================] - 7s 5ms/step - loss: 0.1589 - accuracy: 0.9779 - val_loss: 1.3314 - val_accuracy: 0.9258\n",
      "Epoch 10/20\n",
      "1305/1305 [==============================] - 7s 5ms/step - loss: 0.0991 - accuracy: 0.9836 - val_loss: 1.6616 - val_accuracy: 0.9176\n",
      "Epoch 11/20\n",
      "1305/1305 [==============================] - 7s 5ms/step - loss: 0.1667 - accuracy: 0.9775 - val_loss: 1.8220 - val_accuracy: 0.9150\n",
      "Epoch 12/20\n",
      "1305/1305 [==============================] - 7s 5ms/step - loss: 0.1438 - accuracy: 0.9805 - val_loss: 1.5209 - val_accuracy: 0.9189\n",
      "Epoch 13/20\n",
      "1305/1305 [==============================] - 6s 5ms/step - loss: 0.0961 - accuracy: 0.9832 - val_loss: 1.3014 - val_accuracy: 0.9258\n",
      "Epoch 14/20\n",
      "1305/1305 [==============================] - 6s 5ms/step - loss: 0.1685 - accuracy: 0.9789 - val_loss: 1.7245 - val_accuracy: 0.9159\n",
      "Epoch 15/20\n",
      "1305/1305 [==============================] - 7s 5ms/step - loss: 0.1382 - accuracy: 0.9803 - val_loss: 1.8707 - val_accuracy: 0.9155\n",
      "Epoch 16/20\n",
      "1305/1305 [==============================] - 7s 5ms/step - loss: 0.1354 - accuracy: 0.9816 - val_loss: 1.4415 - val_accuracy: 0.9211\n",
      "Epoch 17/20\n",
      "1305/1305 [==============================] - 7s 5ms/step - loss: 0.1345 - accuracy: 0.9810 - val_loss: 1.5380 - val_accuracy: 0.9224\n",
      "Epoch 18/20\n",
      "1305/1305 [==============================] - 7s 5ms/step - loss: 0.1444 - accuracy: 0.9808 - val_loss: 1.7320 - val_accuracy: 0.9172\n",
      "Epoch 19/20\n",
      "1305/1305 [==============================] - 7s 5ms/step - loss: 0.1198 - accuracy: 0.9817 - val_loss: 1.3451 - val_accuracy: 0.9327\n",
      "Epoch 20/20\n",
      "1305/1305 [==============================] - 7s 5ms/step - loss: 0.1155 - accuracy: 0.9832 - val_loss: 1.8518 - val_accuracy: 0.9194\n",
      "Epoch 1/20\n",
      "1305/1305 [==============================] - 7s 5ms/step - loss: 0.1379 - accuracy: 0.9818 - val_loss: 1.7838 - val_accuracy: 0.9189\n",
      "Epoch 2/20\n",
      "1305/1305 [==============================] - 7s 5ms/step - loss: 0.0943 - accuracy: 0.9841 - val_loss: 1.6066 - val_accuracy: 0.9258\n",
      "Epoch 3/20\n",
      "1305/1305 [==============================] - 7s 5ms/step - loss: 0.1446 - accuracy: 0.9825 - val_loss: 1.6576 - val_accuracy: 0.9271\n",
      "Epoch 4/20\n",
      "1305/1305 [==============================] - 9s 7ms/step - loss: 0.1258 - accuracy: 0.9815 - val_loss: 1.5858 - val_accuracy: 0.9288\n",
      "Epoch 5/20\n",
      "1305/1305 [==============================] - 7s 6ms/step - loss: 0.1127 - accuracy: 0.9849 - val_loss: 1.6331 - val_accuracy: 0.9198\n",
      "Epoch 6/20\n",
      "1305/1305 [==============================] - 7s 5ms/step - loss: 0.1356 - accuracy: 0.9815 - val_loss: 1.5962 - val_accuracy: 0.9284\n",
      "Epoch 7/20\n",
      "1305/1305 [==============================] - 7s 5ms/step - loss: 0.1555 - accuracy: 0.9821 - val_loss: 1.9194 - val_accuracy: 0.9232\n",
      "Epoch 8/20\n",
      "1305/1305 [==============================] - 6s 5ms/step - loss: 0.1143 - accuracy: 0.9831 - val_loss: 1.8669 - val_accuracy: 0.9297\n",
      "Epoch 9/20\n",
      "1305/1305 [==============================] - 7s 5ms/step - loss: 0.0933 - accuracy: 0.9849 - val_loss: 1.5880 - val_accuracy: 0.9276\n",
      "Epoch 10/20\n",
      "1305/1305 [==============================] - 7s 5ms/step - loss: 0.1480 - accuracy: 0.9818 - val_loss: 1.6320 - val_accuracy: 0.9314\n",
      "Epoch 11/20\n",
      "1305/1305 [==============================] - 7s 5ms/step - loss: 0.1187 - accuracy: 0.9832 - val_loss: 1.7665 - val_accuracy: 0.9245\n",
      "Epoch 12/20\n",
      "1305/1305 [==============================] - 7s 5ms/step - loss: 0.1554 - accuracy: 0.9820 - val_loss: 2.0665 - val_accuracy: 0.9250\n",
      "Epoch 13/20\n",
      "1305/1305 [==============================] - 7s 5ms/step - loss: 0.1334 - accuracy: 0.9834 - val_loss: 2.6217 - val_accuracy: 0.9194\n",
      "Epoch 14/20\n",
      "1305/1305 [==============================] - 6s 5ms/step - loss: 0.1244 - accuracy: 0.9839 - val_loss: 1.8175 - val_accuracy: 0.9271\n",
      "Epoch 15/20\n",
      "1305/1305 [==============================] - 6s 5ms/step - loss: 0.1177 - accuracy: 0.9851 - val_loss: 2.2084 - val_accuracy: 0.9232\n",
      "Epoch 16/20\n",
      "1305/1305 [==============================] - 6s 5ms/step - loss: 0.1336 - accuracy: 0.9835 - val_loss: 1.9300 - val_accuracy: 0.9258\n",
      "Epoch 17/20\n",
      "1305/1305 [==============================] - 6s 5ms/step - loss: 0.1207 - accuracy: 0.9865 - val_loss: 2.0477 - val_accuracy: 0.9224\n",
      "Epoch 18/20\n",
      "1305/1305 [==============================] - 6s 5ms/step - loss: 0.1187 - accuracy: 0.9848 - val_loss: 2.1787 - val_accuracy: 0.9258\n",
      "Epoch 19/20\n",
      "1305/1305 [==============================] - 6s 5ms/step - loss: 0.1239 - accuracy: 0.9848 - val_loss: 2.2466 - val_accuracy: 0.9211\n",
      "Epoch 20/20\n",
      "1305/1305 [==============================] - 6s 5ms/step - loss: 0.0932 - accuracy: 0.9857 - val_loss: 2.2039 - val_accuracy: 0.9327\n",
      "Epoch 1/20\n",
      "1305/1305 [==============================] - 6s 5ms/step - loss: 0.1164 - accuracy: 0.9852 - val_loss: 2.2688 - val_accuracy: 0.9219\n",
      "Epoch 2/20\n",
      "1305/1305 [==============================] - 6s 5ms/step - loss: 0.1274 - accuracy: 0.9842 - val_loss: 2.0641 - val_accuracy: 0.9245\n",
      "Epoch 3/20\n",
      "1305/1305 [==============================] - 6s 5ms/step - loss: 0.1523 - accuracy: 0.9836 - val_loss: 2.2673 - val_accuracy: 0.9202\n",
      "Epoch 4/20\n",
      "1305/1305 [==============================] - 7s 5ms/step - loss: 0.1168 - accuracy: 0.9852 - val_loss: 2.3479 - val_accuracy: 0.9258\n",
      "Epoch 5/20\n",
      "1305/1305 [==============================] - 6s 5ms/step - loss: 0.1656 - accuracy: 0.9829 - val_loss: 2.2790 - val_accuracy: 0.9288\n",
      "Epoch 6/20\n",
      "1305/1305 [==============================] - 6s 5ms/step - loss: 0.1085 - accuracy: 0.9850 - val_loss: 1.7199 - val_accuracy: 0.9375\n",
      "Epoch 7/20\n",
      "1305/1305 [==============================] - 7s 5ms/step - loss: 0.1077 - accuracy: 0.9866 - val_loss: 2.0853 - val_accuracy: 0.9323\n",
      "Epoch 8/20\n",
      "1305/1305 [==============================] - 7s 5ms/step - loss: 0.1366 - accuracy: 0.9844 - val_loss: 1.6820 - val_accuracy: 0.9396\n",
      "Epoch 9/20\n",
      "1305/1305 [==============================] - 7s 5ms/step - loss: 0.1439 - accuracy: 0.9828 - val_loss: 2.2842 - val_accuracy: 0.9301\n",
      "Epoch 10/20\n",
      "1305/1305 [==============================] - 6s 5ms/step - loss: 0.1181 - accuracy: 0.9870 - val_loss: 2.0066 - val_accuracy: 0.9258\n",
      "Epoch 11/20\n",
      "1305/1305 [==============================] - 6s 5ms/step - loss: 0.1327 - accuracy: 0.9859 - val_loss: 1.9963 - val_accuracy: 0.9310\n",
      "Epoch 12/20\n",
      "1305/1305 [==============================] - 6s 5ms/step - loss: 0.1155 - accuracy: 0.9853 - val_loss: 2.4689 - val_accuracy: 0.9254\n",
      "Epoch 13/20\n",
      "1305/1305 [==============================] - 7s 5ms/step - loss: 0.1111 - accuracy: 0.9865 - val_loss: 2.1417 - val_accuracy: 0.9327\n",
      "Epoch 14/20\n",
      "1305/1305 [==============================] - 7s 5ms/step - loss: 0.0923 - accuracy: 0.9864 - val_loss: 3.3240 - val_accuracy: 0.9146\n",
      "Epoch 15/20\n",
      "1305/1305 [==============================] - 7s 5ms/step - loss: 0.1299 - accuracy: 0.9852 - val_loss: 2.5811 - val_accuracy: 0.9319\n",
      "Epoch 16/20\n",
      "1305/1305 [==============================] - 7s 5ms/step - loss: 0.1270 - accuracy: 0.9869 - val_loss: 3.0659 - val_accuracy: 0.9254\n",
      "Epoch 17/20\n",
      "1305/1305 [==============================] - 7s 5ms/step - loss: 0.1727 - accuracy: 0.9839 - val_loss: 3.1422 - val_accuracy: 0.9245\n",
      "Epoch 18/20\n",
      "1305/1305 [==============================] - 7s 5ms/step - loss: 0.1288 - accuracy: 0.9873 - val_loss: 2.9435 - val_accuracy: 0.9293\n",
      "Epoch 19/20\n",
      "1305/1305 [==============================] - 7s 5ms/step - loss: 0.1017 - accuracy: 0.9883 - val_loss: 2.8620 - val_accuracy: 0.9332\n",
      "Epoch 20/20\n",
      "1305/1305 [==============================] - 7s 5ms/step - loss: 0.1338 - accuracy: 0.9869 - val_loss: 2.9444 - val_accuracy: 0.9237\n"
     ]
    }
   ],
   "source": [
    "for i in range(5):\n",
    "    \n",
    "    history=model.fit(x_train,y_train,epochs=20,validation_data=(x_test,y_test),batch_size=16,verbose=1) \n",
    "    "
   ]
  },
  {
   "cell_type": "code",
   "execution_count": 24,
   "id": "42540127-9afc-426d-a804-0260603dc1f3",
   "metadata": {},
   "outputs": [
    {
     "name": "stdout",
     "output_type": "stream",
     "text": [
      "73/73 [==============================] - 0s 2ms/step - loss: 2.9444 - accuracy: 0.9237\n"
     ]
    }
   ],
   "source": [
    "eval=model.evaluate(x_test,y_test)"
   ]
  },
  {
   "cell_type": "code",
   "execution_count": 25,
   "id": "d3b54116-65b9-4419-a2f9-a8d208475fba",
   "metadata": {},
   "outputs": [
    {
     "data": {
      "text/plain": [
       "[2.944441795349121, 0.9236739873886108]"
      ]
     },
     "execution_count": 25,
     "metadata": {},
     "output_type": "execute_result"
    }
   ],
   "source": [
    "eval"
   ]
  },
  {
   "cell_type": "code",
   "execution_count": 34,
   "id": "fbb0aebf-d327-45dc-8c81-03b21a80f583",
   "metadata": {},
   "outputs": [
    {
     "data": {
      "text/plain": [
       "<matplotlib.legend.Legend at 0x7f4ed8013a00>"
      ]
     },
     "execution_count": 34,
     "metadata": {},
     "output_type": "execute_result"
    },
    {
     "data": {
      "image/png": "[encoded data removed]",
      "text/plain": [
       "<Figure size 1200x400 with 2 Axes>"
      ]
     },
     "metadata": {},
     "output_type": "display_data"
    }
   ],
   "source": [
    "train_accuracy = history.history['accuracy']\n",
    "val_accuracy = history.history['val_accuracy']\n",
    "train_loss = history.history['loss']\n",
    "val_loss = history.history['val_loss']\n",
    "\n",
    "epochs = range(len(train_accuracy))\n",
    "plt.figure(figsize=(12,4))\n",
    "\n",
    "# Plotting the accuracy\n",
    "plt.subplot(1,2,1)\n",
    "plt.plot(epochs, train_accuracy, 'b', label='Training accuracy')\n",
    "plt.plot(epochs, val_accuracy, 'r', label='Validation accuracy')\n",
    "plt.title('Training and validation accuracy')\n",
    "plt.xlabel('Epoch')\n",
    "plt.ylabel('Accuracy')\n",
    "plt.legend(['train', 'val'], loc='lower right')\n",
    "\n",
    "# Plotting the loss\n",
    "plt.subplot(1,2,2)\n",
    "plt.plot(epochs, train_loss, 'b', label='Training loss')\n",
    "plt.plot(epochs, val_loss, 'r', label='Validation loss')\n",
    "plt.title('Training and validation loss')\n",
    "plt.xlabel('Epoch')\n",
    "plt.ylabel('Loss')\n",
    "plt.legend(['train', 'val'], loc='upper right')"
   ]
  },
  {
   "cell_type": "code",
   "execution_count": 35,
   "id": "169bd0c9-a790-47e1-a118-4d3843823f7b",
   "metadata": {},
   "outputs": [
    {
     "name": "stdout",
     "output_type": "stream",
     "text": [
      "73/73 [==============================] - 0s 2ms/step\n"
     ]
    },
    {
     "data": {
      "text/plain": [
       "array([17,  5, 18, ...,  3,  0,  6])"
      ]
     },
     "execution_count": 35,
     "metadata": {},
     "output_type": "execute_result"
    }
   ],
   "source": [
    "y_pred=model.predict(x_test)\n",
    "y_pred=np.argmax(y_pred, axis=1)\n",
    "y_pred"
   ]
  },
  {
   "cell_type": "code",
   "execution_count": 36,
   "id": "6f7f6414-1abc-4831-a343-749f87874e5f",
   "metadata": {},
   "outputs": [],
   "source": [
    "y_test=np.argmax(y_test, axis=1)"
   ]
  },
  {
   "cell_type": "code",
   "execution_count": 37,
   "id": "8ff02b33-a174-4bc5-aa37-9459d260297c",
   "metadata": {},
   "outputs": [
    {
     "name": "stdout",
     "output_type": "stream",
     "text": [
      "              precision    recall  f1-score   support\n",
      "\n",
      "           0       0.97      1.00      0.99       101\n",
      "           1       0.96      0.96      0.96        76\n",
      "           2       0.96      0.94      0.95       118\n",
      "           3       0.80      0.84      0.82        81\n",
      "           4       0.83      0.93      0.88        87\n",
      "           5       0.96      0.91      0.93       100\n",
      "           6       0.89      0.97      0.93        95\n",
      "           7       0.94      0.92      0.93       110\n",
      "           8       0.98      0.88      0.92        90\n",
      "           9       0.98      0.92      0.95        99\n",
      "          10       0.89      0.80      0.84       107\n",
      "          11       0.89      0.94      0.92        88\n",
      "          12       0.85      0.91      0.88       125\n",
      "          13       0.96      0.93      0.94       117\n",
      "          14       0.84      0.93      0.88       101\n",
      "          15       0.93      0.92      0.92       100\n",
      "          16       0.97      0.93      0.95        98\n",
      "          17       0.99      0.90      0.94       124\n",
      "          18       0.94      0.96      0.95        96\n",
      "          19       0.92      0.93      0.92       110\n",
      "          20       0.97      0.90      0.93       100\n",
      "          21       0.91      0.98      0.94        96\n",
      "          22       0.95      0.96      0.96       100\n",
      "\n",
      "    accuracy                           0.92      2319\n",
      "   macro avg       0.92      0.92      0.92      2319\n",
      "weighted avg       0.93      0.92      0.92      2319\n",
      "\n"
     ]
    }
   ],
   "source": [
    "from sklearn.metrics import *\n",
    "print(classification_report(y_test, y_pred))"
   ]
  },
  {
   "cell_type": "code",
   "execution_count": null,
   "id": "b820dfdc-7e86-477d-9a28-6dc3355b5b0f",
   "metadata": {},
   "outputs": [],
   "source": []
  }
 ],
 "metadata": {
  "environment": {
   "kernel": "python3",
   "name": "tf2-gpu.2-11.m109",
   "type": "gcloud",
   "uri": "gcr.io/deeplearning-platform-release/tf2-gpu.2-11:m109"
  },
  "kernelspec": {
   "display_name": "Python 3",
   "language": "python",
   "name": "python3"
  },
  "language_info": {
   "codemirror_mode": {
    "name": "ipython",
    "version": 3
   },
   "file_extension": ".py",
   "mimetype": "text/x-python",
   "name": "python",
   "nbconvert_exporter": "python",
   "pygments_lexer": "ipython3",
   "version": "3.10.11"
  }
 },
 "nbformat": 4,
 "nbformat_minor": 5
}
