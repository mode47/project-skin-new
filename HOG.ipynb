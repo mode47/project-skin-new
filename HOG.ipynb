{
 "cells": [
  {
   "cell_type": "code",
   "execution_count": 1,
   "id": "73fd3c63-3b35-46d6-8c13-202861c93a39",
   "metadata": {},
   "outputs": [],
   "source": [
    "import pandas as pd\n",
    "import os\n",
    "def data_dictionary():\n",
    "    path_train=\"dataset/\"\n",
    "    list_train=os.listdir(path_train)\n",
    "    train_dictionary={\"image_path\":[],\"target\":[]}\n",
    "    k=0\n",
    "    for i in list_train:\n",
    "        \n",
    "        path_disease_train=path_train+i\n",
    "        image_list_train=os.listdir(path_disease_train)\n",
    "        for j in image_list_train:\n",
    "            img_path_train=path_disease_train+\"/\"+j   \n",
    "            train_dictionary[\"image_path\"].append(img_path_train)\n",
    "            train_dictionary['target'].append(k)     \n",
    "        k+=1\n",
    "    train_df=pd.DataFrame(train_dictionary)\n",
    "    return  train_df"
   ]
  },
  {
   "cell_type": "code",
   "execution_count": 3,
   "id": "66a97fec-32f7-4f96-b42b-94cb10ced288",
   "metadata": {},
   "outputs": [],
   "source": [
    "data=data_dictionary()"
   ]
  },
  {
   "cell_type": "code",
   "execution_count": 14,
   "id": "e271e99a-8cef-426b-a355-064a78ad7694",
   "metadata": {},
   "outputs": [],
   "source": [
    "\n",
    "from tensorflow.keras.applications.vgg19 import VGG19, preprocess_input\n",
    "from tensorflow.keras.preprocessing.image import load_img, img_to_array"
   ]
  },
  {
   "cell_type": "code",
   "execution_count": 36,
   "id": "53204905-40e4-418d-95b4-4a5d4507c18f",
   "metadata": {},
   "outputs": [],
   "source": [
    "import cv2\n",
    "from sklearn.svm import LinearSVC\n",
    "from sklearn.model_selection import train_test_split\n",
    "from sklearn.metrics import accuracy_score\n",
    "from skimage.feature import hog"
   ]
  },
  {
   "cell_type": "code",
   "execution_count": 38,
   "id": "9044fddd-a2e3-403d-aaf5-59d3db9252d3",
   "metadata": {},
   "outputs": [],
   "source": [
    "import cv2\n",
    "images=[]\n",
    "label=[]\n",
    "hog_features=[]\n",
    "\n",
    "from tensorflow.keras.applications.vgg19 import VGG19, preprocess_input\n",
    "from tensorflow.keras.preprocessing.image import load_img, img_to_array\n",
    "import numpy as np\n",
    "for i in data['image_path']:\n",
    "    \n",
    "    img=cv2.imread(i,0)\n",
    "    img=cv2.resize(img,(100,100))\n",
    "    hog_feature = hog(img, orientations=9, pixels_per_cell=(8, 8),cells_per_block=(2, 2))               \n",
    "    hog_features.append(hog_feature)\n",
    "    images.append(img)\n",
    "                   "
   ]
  },
  {
   "cell_type": "code",
   "execution_count": 40,
   "id": "1b3d7583-5606-42f1-af8d-ecd63b549033",
   "metadata": {},
   "outputs": [],
   "source": [
    "hog_features=np.array(hog_features)"
   ]
  },
  {
   "cell_type": "code",
   "execution_count": 44,
   "id": "286a7132-c6d3-424d-9e5f-b731dc790181",
   "metadata": {},
   "outputs": [],
   "source": [
    "lable=data['target']"
   ]
  },
  {
   "cell_type": "code",
   "execution_count": 52,
   "id": "03bc8531-901f-4f31-9c89-884d2ca50ce3",
   "metadata": {},
   "outputs": [],
   "source": [
    "X_train, X_test, y_train, y_test = train_test_split(hog_features, lable, test_size=0.1, random_state=42)\n",
    "X_train, X_valid, y_train, y_valid = train_test_split(X_train, y_train, test_size=0.1, random_state=42)\n",
    "\n"
   ]
  },
  {
   "cell_type": "code",
   "execution_count": 56,
   "id": "80cf11db-5046-45d4-9508-e37dc40561a0",
   "metadata": {},
   "outputs": [],
   "source": [
    "from tensorflow.keras.models import Sequential\n",
    "from tensorflow.keras.layers import Conv2D,MaxPooling2D,Flatten, Dense\n",
    "from keras.callbacks import ModelCheckpoint, ReduceLROnPlateau\n",
    "mcp_save = ModelCheckpoint('EnetB0_CIFAR10_TL.h5', save_best_only=True, monitor='val_acc')\n",
    "reduce_lr = ReduceLROnPlateau(monitor='val_acc', factor=0.5, patience=2, verbose=1,)"
   ]
  },
  {
   "cell_type": "code",
   "execution_count": 57,
   "id": "2f0e6736-b88e-4bec-87c9-5e19cd1bae9e",
   "metadata": {},
   "outputs": [],
   "source": [
    "model=Sequential([\n",
    "                  Dense(1024,activation='relu'),\n",
    "                   Dense(512,activation='relu'),\n",
    "                  Dense(256,activation='relu'),\n",
    "                  Dense(23,activation='softmax'),\n",
    "\n",
    "])"
   ]
  },
  {
   "cell_type": "code",
   "execution_count": 60,
   "id": "6699c494-d34e-4c8a-9053-9d87617e4951",
   "metadata": {},
   "outputs": [],
   "source": [
    "import keras\n",
    "num_classes = 23\n",
    "y_train = keras.utils.to_categorical(y_train, num_classes)\n",
    "y_valid = keras.utils.to_categorical(y_valid, num_classes)"
   ]
  },
  {
   "cell_type": "code",
   "execution_count": 61,
   "id": "30fff60c-1749-4656-8e3e-9bed6ab47aa9",
   "metadata": {},
   "outputs": [],
   "source": [
    "model.compile(optimizer='adam',loss='categorical_crossentropy',metrics=['accuracy'])"
   ]
  },
  {
   "cell_type": "code",
   "execution_count": 63,
   "id": "f331a90a-dd43-4a1e-9824-fd47daf3a4f7",
   "metadata": {},
   "outputs": [
    {
     "name": "stdout",
     "output_type": "stream",
     "text": [
      "Epoch 1/70\n",
      "587/587 [==============================] - ETA: 0s - loss: 2.0820 - accuracy: 0.3574WARNING:tensorflow:Can save best model only with val_acc available, skipping.\n",
      "WARNING:tensorflow:Learning rate reduction is conditioned on metric `val_acc` which is not available. Available metrics are: loss,accuracy,val_loss,val_accuracy,lr\n",
      "587/587 [==============================] - 13s 22ms/step - loss: 2.0820 - accuracy: 0.3574 - val_loss: 2.6411 - val_accuracy: 0.2463 - lr: 0.0010\n",
      "Epoch 2/70\n",
      "585/587 [============================>.] - ETA: 0s - loss: 2.0596 - accuracy: 0.3672WARNING:tensorflow:Can save best model only with val_acc available, skipping.\n",
      "WARNING:tensorflow:Learning rate reduction is conditioned on metric `val_acc` which is not available. Available metrics are: loss,accuracy,val_loss,val_accuracy,lr\n",
      "587/587 [==============================] - 13s 22ms/step - loss: 2.0599 - accuracy: 0.3670 - val_loss: 2.6408 - val_accuracy: 0.2496 - lr: 0.0010\n",
      "Epoch 3/70\n",
      "585/587 [============================>.] - ETA: 0s - loss: 2.0283 - accuracy: 0.3763WARNING:tensorflow:Can save best model only with val_acc available, skipping.\n",
      "WARNING:tensorflow:Learning rate reduction is conditioned on metric `val_acc` which is not available. Available metrics are: loss,accuracy,val_loss,val_accuracy,lr\n",
      "587/587 [==============================] - 13s 22ms/step - loss: 2.0286 - accuracy: 0.3763 - val_loss: 2.5807 - val_accuracy: 0.2540 - lr: 0.0010\n",
      "Epoch 4/70\n",
      "586/587 [============================>.] - ETA: 0s - loss: 2.0132 - accuracy: 0.3768WARNING:tensorflow:Can save best model only with val_acc available, skipping.\n",
      "WARNING:tensorflow:Learning rate reduction is conditioned on metric `val_acc` which is not available. Available metrics are: loss,accuracy,val_loss,val_accuracy,lr\n",
      "587/587 [==============================] - 13s 22ms/step - loss: 2.0135 - accuracy: 0.3767 - val_loss: 2.5853 - val_accuracy: 0.2573 - lr: 0.0010\n",
      "Epoch 5/70\n",
      "587/587 [==============================] - ETA: 0s - loss: 1.9914 - accuracy: 0.3836WARNING:tensorflow:Can save best model only with val_acc available, skipping.\n",
      "WARNING:tensorflow:Learning rate reduction is conditioned on metric `val_acc` which is not available. Available metrics are: loss,accuracy,val_loss,val_accuracy,lr\n",
      "587/587 [==============================] - 13s 22ms/step - loss: 1.9914 - accuracy: 0.3836 - val_loss: 2.5829 - val_accuracy: 0.2563 - lr: 0.0010\n",
      "Epoch 6/70\n",
      "586/587 [============================>.] - ETA: 0s - loss: 1.9757 - accuracy: 0.3862WARNING:tensorflow:Can save best model only with val_acc available, skipping.\n",
      "WARNING:tensorflow:Learning rate reduction is conditioned on metric `val_acc` which is not available. Available metrics are: loss,accuracy,val_loss,val_accuracy,lr\n",
      "587/587 [==============================] - 13s 22ms/step - loss: 1.9757 - accuracy: 0.3862 - val_loss: 2.6607 - val_accuracy: 0.2511 - lr: 0.0010\n",
      "Epoch 7/70\n",
      "585/587 [============================>.] - ETA: 0s - loss: 1.9544 - accuracy: 0.3967WARNING:tensorflow:Can save best model only with val_acc available, skipping.\n",
      "WARNING:tensorflow:Learning rate reduction is conditioned on metric `val_acc` which is not available. Available metrics are: loss,accuracy,val_loss,val_accuracy,lr\n",
      "587/587 [==============================] - 13s 22ms/step - loss: 1.9548 - accuracy: 0.3966 - val_loss: 2.5696 - val_accuracy: 0.2731 - lr: 0.0010\n",
      "Epoch 8/70\n",
      "587/587 [==============================] - ETA: 0s - loss: 1.9381 - accuracy: 0.3988WARNING:tensorflow:Can save best model only with val_acc available, skipping.\n",
      "WARNING:tensorflow:Learning rate reduction is conditioned on metric `val_acc` which is not available. Available metrics are: loss,accuracy,val_loss,val_accuracy,lr\n",
      "587/587 [==============================] - 13s 21ms/step - loss: 1.9381 - accuracy: 0.3988 - val_loss: 2.6416 - val_accuracy: 0.2683 - lr: 0.0010\n",
      "Epoch 9/70\n",
      "587/587 [==============================] - ETA: 0s - loss: 1.8903 - accuracy: 0.4137WARNING:tensorflow:Can save best model only with val_acc available, skipping.\n",
      "WARNING:tensorflow:Learning rate reduction is conditioned on metric `val_acc` which is not available. Available metrics are: loss,accuracy,val_loss,val_accuracy,lr\n",
      "587/587 [==============================] - 13s 22ms/step - loss: 1.8903 - accuracy: 0.4137 - val_loss: 2.6398 - val_accuracy: 0.2755 - lr: 0.0010\n",
      "Epoch 10/70\n",
      "585/587 [============================>.] - ETA: 0s - loss: 1.8861 - accuracy: 0.4126WARNING:tensorflow:Can save best model only with val_acc available, skipping.\n",
      "WARNING:tensorflow:Learning rate reduction is conditioned on metric `val_acc` which is not available. Available metrics are: loss,accuracy,val_loss,val_accuracy,lr\n",
      "587/587 [==============================] - 13s 22ms/step - loss: 1.8857 - accuracy: 0.4128 - val_loss: 2.7073 - val_accuracy: 0.2678 - lr: 0.0010\n",
      "Epoch 11/70\n",
      "586/587 [============================>.] - ETA: 0s - loss: 1.8626 - accuracy: 0.4227WARNING:tensorflow:Can save best model only with val_acc available, skipping.\n",
      "WARNING:tensorflow:Learning rate reduction is conditioned on metric `val_acc` which is not available. Available metrics are: loss,accuracy,val_loss,val_accuracy,lr\n",
      "587/587 [==============================] - 13s 23ms/step - loss: 1.8630 - accuracy: 0.4227 - val_loss: 2.5578 - val_accuracy: 0.2726 - lr: 0.0010\n",
      "Epoch 12/70\n",
      "585/587 [============================>.] - ETA: 0s - loss: 1.8483 - accuracy: 0.4270WARNING:tensorflow:Can save best model only with val_acc available, skipping.\n",
      "WARNING:tensorflow:Learning rate reduction is conditioned on metric `val_acc` which is not available. Available metrics are: loss,accuracy,val_loss,val_accuracy,lr\n",
      "587/587 [==============================] - 13s 22ms/step - loss: 1.8483 - accuracy: 0.4268 - val_loss: 2.6411 - val_accuracy: 0.2693 - lr: 0.0010\n",
      "Epoch 13/70\n",
      "586/587 [============================>.] - ETA: 0s - loss: 1.8417 - accuracy: 0.4263WARNING:tensorflow:Can save best model only with val_acc available, skipping.\n",
      "WARNING:tensorflow:Learning rate reduction is conditioned on metric `val_acc` which is not available. Available metrics are: loss,accuracy,val_loss,val_accuracy,lr\n",
      "587/587 [==============================] - 13s 22ms/step - loss: 1.8417 - accuracy: 0.4263 - val_loss: 2.7182 - val_accuracy: 0.2559 - lr: 0.0010\n",
      "Epoch 14/70\n",
      "585/587 [============================>.] - ETA: 0s - loss: 1.8163 - accuracy: 0.4323WARNING:tensorflow:Can save best model only with val_acc available, skipping.\n",
      "WARNING:tensorflow:Learning rate reduction is conditioned on metric `val_acc` which is not available. Available metrics are: loss,accuracy,val_loss,val_accuracy,lr\n",
      "587/587 [==============================] - 13s 23ms/step - loss: 1.8157 - accuracy: 0.4324 - val_loss: 2.5716 - val_accuracy: 0.2813 - lr: 0.0010\n",
      "Epoch 15/70\n",
      "586/587 [============================>.] - ETA: 0s - loss: 1.8061 - accuracy: 0.4358WARNING:tensorflow:Can save best model only with val_acc available, skipping.\n",
      "WARNING:tensorflow:Learning rate reduction is conditioned on metric `val_acc` which is not available. Available metrics are: loss,accuracy,val_loss,val_accuracy,lr\n",
      "587/587 [==============================] - 13s 22ms/step - loss: 1.8065 - accuracy: 0.4357 - val_loss: 2.5798 - val_accuracy: 0.2865 - lr: 0.0010\n",
      "Epoch 16/70\n",
      "585/587 [============================>.] - ETA: 0s - loss: 1.7728 - accuracy: 0.4479WARNING:tensorflow:Can save best model only with val_acc available, skipping.\n",
      "WARNING:tensorflow:Learning rate reduction is conditioned on metric `val_acc` which is not available. Available metrics are: loss,accuracy,val_loss,val_accuracy,lr\n",
      "587/587 [==============================] - 13s 22ms/step - loss: 1.7724 - accuracy: 0.4478 - val_loss: 2.5947 - val_accuracy: 0.2885 - lr: 0.0010\n",
      "Epoch 17/70\n",
      "585/587 [============================>.] - ETA: 0s - loss: 1.7581 - accuracy: 0.4536WARNING:tensorflow:Can save best model only with val_acc available, skipping.\n",
      "WARNING:tensorflow:Learning rate reduction is conditioned on metric `val_acc` which is not available. Available metrics are: loss,accuracy,val_loss,val_accuracy,lr\n",
      "587/587 [==============================] - 13s 22ms/step - loss: 1.7581 - accuracy: 0.4535 - val_loss: 2.7254 - val_accuracy: 0.2717 - lr: 0.0010\n",
      "Epoch 18/70\n",
      "587/587 [==============================] - ETA: 0s - loss: 1.7745 - accuracy: 0.4467WARNING:tensorflow:Can save best model only with val_acc available, skipping.\n",
      "WARNING:tensorflow:Learning rate reduction is conditioned on metric `val_acc` which is not available. Available metrics are: loss,accuracy,val_loss,val_accuracy,lr\n",
      "587/587 [==============================] - 12s 21ms/step - loss: 1.7745 - accuracy: 0.4467 - val_loss: 2.5967 - val_accuracy: 0.2956 - lr: 0.0010\n",
      "Epoch 19/70\n",
      "587/587 [==============================] - ETA: 0s - loss: 1.7276 - accuracy: 0.4633WARNING:tensorflow:Can save best model only with val_acc available, skipping.\n",
      "WARNING:tensorflow:Learning rate reduction is conditioned on metric `val_acc` which is not available. Available metrics are: loss,accuracy,val_loss,val_accuracy,lr\n",
      "587/587 [==============================] - 13s 23ms/step - loss: 1.7276 - accuracy: 0.4633 - val_loss: 2.6385 - val_accuracy: 0.2952 - lr: 0.0010\n",
      "Epoch 20/70\n",
      "586/587 [============================>.] - ETA: 0s - loss: 1.7051 - accuracy: 0.4682WARNING:tensorflow:Can save best model only with val_acc available, skipping.\n",
      "WARNING:tensorflow:Learning rate reduction is conditioned on metric `val_acc` which is not available. Available metrics are: loss,accuracy,val_loss,val_accuracy,lr\n",
      "587/587 [==============================] - 13s 22ms/step - loss: 1.7049 - accuracy: 0.4684 - val_loss: 2.6193 - val_accuracy: 0.2956 - lr: 0.0010\n",
      "Epoch 21/70\n",
      "587/587 [==============================] - ETA: 0s - loss: 1.7183 - accuracy: 0.4672WARNING:tensorflow:Can save best model only with val_acc available, skipping.\n",
      "WARNING:tensorflow:Learning rate reduction is conditioned on metric `val_acc` which is not available. Available metrics are: loss,accuracy,val_loss,val_accuracy,lr\n",
      "587/587 [==============================] - 13s 22ms/step - loss: 1.7183 - accuracy: 0.4672 - val_loss: 2.5847 - val_accuracy: 0.3043 - lr: 0.0010\n",
      "Epoch 22/70\n",
      "586/587 [============================>.] - ETA: 0s - loss: 1.6847 - accuracy: 0.4766WARNING:tensorflow:Can save best model only with val_acc available, skipping.\n",
      "WARNING:tensorflow:Learning rate reduction is conditioned on metric `val_acc` which is not available. Available metrics are: loss,accuracy,val_loss,val_accuracy,lr\n",
      "587/587 [==============================] - 13s 22ms/step - loss: 1.6849 - accuracy: 0.4765 - val_loss: 2.6121 - val_accuracy: 0.2942 - lr: 0.0010\n",
      "Epoch 23/70\n",
      "586/587 [============================>.] - ETA: 0s - loss: 1.6466 - accuracy: 0.4861WARNING:tensorflow:Can save best model only with val_acc available, skipping.\n",
      "WARNING:tensorflow:Learning rate reduction is conditioned on metric `val_acc` which is not available. Available metrics are: loss,accuracy,val_loss,val_accuracy,lr\n",
      "587/587 [==============================] - 13s 22ms/step - loss: 1.6464 - accuracy: 0.4862 - val_loss: 2.5740 - val_accuracy: 0.3081 - lr: 0.0010\n",
      "Epoch 24/70\n",
      "585/587 [============================>.] - ETA: 0s - loss: 1.6658 - accuracy: 0.4818WARNING:tensorflow:Can save best model only with val_acc available, skipping.\n",
      "WARNING:tensorflow:Learning rate reduction is conditioned on metric `val_acc` which is not available. Available metrics are: loss,accuracy,val_loss,val_accuracy,lr\n",
      "587/587 [==============================] - 13s 22ms/step - loss: 1.6656 - accuracy: 0.4819 - val_loss: 2.6451 - val_accuracy: 0.2856 - lr: 0.0010\n",
      "Epoch 25/70\n",
      "586/587 [============================>.] - ETA: 0s - loss: 1.6559 - accuracy: 0.4829WARNING:tensorflow:Can save best model only with val_acc available, skipping.\n",
      "WARNING:tensorflow:Learning rate reduction is conditioned on metric `val_acc` which is not available. Available metrics are: loss,accuracy,val_loss,val_accuracy,lr\n",
      "587/587 [==============================] - 13s 22ms/step - loss: 1.6561 - accuracy: 0.4829 - val_loss: 2.8120 - val_accuracy: 0.2947 - lr: 0.0010\n",
      "Epoch 26/70\n",
      "585/587 [============================>.] - ETA: 0s - loss: 1.6408 - accuracy: 0.4847WARNING:tensorflow:Can save best model only with val_acc available, skipping.\n",
      "WARNING:tensorflow:Learning rate reduction is conditioned on metric `val_acc` which is not available. Available metrics are: loss,accuracy,val_loss,val_accuracy,lr\n",
      "587/587 [==============================] - 13s 22ms/step - loss: 1.6406 - accuracy: 0.4846 - val_loss: 2.7570 - val_accuracy: 0.2875 - lr: 0.0010\n",
      "Epoch 27/70\n",
      "587/587 [==============================] - ETA: 0s - loss: 1.6222 - accuracy: 0.4975WARNING:tensorflow:Can save best model only with val_acc available, skipping.\n",
      "WARNING:tensorflow:Learning rate reduction is conditioned on metric `val_acc` which is not available. Available metrics are: loss,accuracy,val_loss,val_accuracy,lr\n",
      "587/587 [==============================] - 13s 22ms/step - loss: 1.6222 - accuracy: 0.4975 - val_loss: 2.6298 - val_accuracy: 0.3153 - lr: 0.0010\n",
      "Epoch 28/70\n",
      "585/587 [============================>.] - ETA: 0s - loss: 1.6013 - accuracy: 0.4979WARNING:tensorflow:Can save best model only with val_acc available, skipping.\n",
      "WARNING:tensorflow:Learning rate reduction is conditioned on metric `val_acc` which is not available. Available metrics are: loss,accuracy,val_loss,val_accuracy,lr\n",
      "587/587 [==============================] - 13s 22ms/step - loss: 1.6017 - accuracy: 0.4977 - val_loss: 2.5993 - val_accuracy: 0.3182 - lr: 0.0010\n",
      "Epoch 29/70\n",
      "585/587 [============================>.] - ETA: 0s - loss: 1.5927 - accuracy: 0.5020WARNING:tensorflow:Can save best model only with val_acc available, skipping.\n",
      "WARNING:tensorflow:Learning rate reduction is conditioned on metric `val_acc` which is not available. Available metrics are: loss,accuracy,val_loss,val_accuracy,lr\n",
      "587/587 [==============================] - 13s 22ms/step - loss: 1.5940 - accuracy: 0.5015 - val_loss: 2.6929 - val_accuracy: 0.3134 - lr: 0.0010\n",
      "Epoch 30/70\n",
      "587/587 [==============================] - ETA: 0s - loss: 1.5833 - accuracy: 0.5029WARNING:tensorflow:Can save best model only with val_acc available, skipping.\n",
      "WARNING:tensorflow:Learning rate reduction is conditioned on metric `val_acc` which is not available. Available metrics are: loss,accuracy,val_loss,val_accuracy,lr\n",
      "587/587 [==============================] - 16s 27ms/step - loss: 1.5833 - accuracy: 0.5029 - val_loss: 2.6253 - val_accuracy: 0.3210 - lr: 0.0010\n",
      "Epoch 31/70\n",
      "585/587 [============================>.] - ETA: 0s - loss: 1.5578 - accuracy: 0.5137WARNING:tensorflow:Can save best model only with val_acc available, skipping.\n",
      "WARNING:tensorflow:Learning rate reduction is conditioned on metric `val_acc` which is not available. Available metrics are: loss,accuracy,val_loss,val_accuracy,lr\n",
      "587/587 [==============================] - 14s 24ms/step - loss: 1.5579 - accuracy: 0.5137 - val_loss: 2.6459 - val_accuracy: 0.3177 - lr: 0.0010\n",
      "Epoch 32/70\n",
      "587/587 [==============================] - ETA: 0s - loss: 1.5702 - accuracy: 0.5107WARNING:tensorflow:Can save best model only with val_acc available, skipping.\n",
      "WARNING:tensorflow:Learning rate reduction is conditioned on metric `val_acc` which is not available. Available metrics are: loss,accuracy,val_loss,val_accuracy,lr\n",
      "587/587 [==============================] - 13s 22ms/step - loss: 1.5702 - accuracy: 0.5107 - val_loss: 2.6507 - val_accuracy: 0.3215 - lr: 0.0010\n",
      "Epoch 33/70\n",
      "586/587 [============================>.] - ETA: 0s - loss: 1.5398 - accuracy: 0.5194WARNING:tensorflow:Can save best model only with val_acc available, skipping.\n",
      "WARNING:tensorflow:Learning rate reduction is conditioned on metric `val_acc` which is not available. Available metrics are: loss,accuracy,val_loss,val_accuracy,lr\n",
      "587/587 [==============================] - 13s 22ms/step - loss: 1.5406 - accuracy: 0.5192 - val_loss: 2.8166 - val_accuracy: 0.3095 - lr: 0.0010\n",
      "Epoch 34/70\n",
      "586/587 [============================>.] - ETA: 0s - loss: 1.5476 - accuracy: 0.5154WARNING:tensorflow:Can save best model only with val_acc available, skipping.\n",
      "WARNING:tensorflow:Learning rate reduction is conditioned on metric `val_acc` which is not available. Available metrics are: loss,accuracy,val_loss,val_accuracy,lr\n",
      "587/587 [==============================] - 13s 22ms/step - loss: 1.5473 - accuracy: 0.5156 - val_loss: 2.6775 - val_accuracy: 0.3426 - lr: 0.0010\n",
      "Epoch 35/70\n",
      "587/587 [==============================] - ETA: 0s - loss: 1.5201 - accuracy: 0.5238WARNING:tensorflow:Can save best model only with val_acc available, skipping.\n",
      "WARNING:tensorflow:Learning rate reduction is conditioned on metric `val_acc` which is not available. Available metrics are: loss,accuracy,val_loss,val_accuracy,lr\n",
      "587/587 [==============================] - 13s 23ms/step - loss: 1.5201 - accuracy: 0.5238 - val_loss: 2.6711 - val_accuracy: 0.3191 - lr: 0.0010\n",
      "Epoch 36/70\n",
      "587/587 [==============================] - ETA: 0s - loss: 1.5188 - accuracy: 0.5246WARNING:tensorflow:Can save best model only with val_acc available, skipping.\n",
      "WARNING:tensorflow:Learning rate reduction is conditioned on metric `val_acc` which is not available. Available metrics are: loss,accuracy,val_loss,val_accuracy,lr\n",
      "587/587 [==============================] - 13s 22ms/step - loss: 1.5188 - accuracy: 0.5246 - val_loss: 2.8924 - val_accuracy: 0.2956 - lr: 0.0010\n",
      "Epoch 37/70\n",
      "586/587 [============================>.] - ETA: 0s - loss: 1.4848 - accuracy: 0.5344WARNING:tensorflow:Can save best model only with val_acc available, skipping.\n",
      "WARNING:tensorflow:Learning rate reduction is conditioned on metric `val_acc` which is not available. Available metrics are: loss,accuracy,val_loss,val_accuracy,lr\n",
      "587/587 [==============================] - 13s 22ms/step - loss: 1.4848 - accuracy: 0.5345 - val_loss: 2.7403 - val_accuracy: 0.3282 - lr: 0.0010\n",
      "Epoch 38/70\n",
      "587/587 [==============================] - ETA: 0s - loss: 1.4587 - accuracy: 0.5430WARNING:tensorflow:Can save best model only with val_acc available, skipping.\n",
      "WARNING:tensorflow:Learning rate reduction is conditioned on metric `val_acc` which is not available. Available metrics are: loss,accuracy,val_loss,val_accuracy,lr\n",
      "587/587 [==============================] - 13s 22ms/step - loss: 1.4587 - accuracy: 0.5430 - val_loss: 2.7569 - val_accuracy: 0.3239 - lr: 0.0010\n",
      "Epoch 39/70\n",
      "587/587 [==============================] - ETA: 0s - loss: 1.4904 - accuracy: 0.5332WARNING:tensorflow:Can save best model only with val_acc available, skipping.\n",
      "WARNING:tensorflow:Learning rate reduction is conditioned on metric `val_acc` which is not available. Available metrics are: loss,accuracy,val_loss,val_accuracy,lr\n",
      "587/587 [==============================] - 13s 22ms/step - loss: 1.4904 - accuracy: 0.5332 - val_loss: 2.8052 - val_accuracy: 0.3301 - lr: 0.0010\n",
      "Epoch 40/70\n",
      "586/587 [============================>.] - ETA: 0s - loss: 1.4523 - accuracy: 0.5451WARNING:tensorflow:Can save best model only with val_acc available, skipping.\n",
      "WARNING:tensorflow:Learning rate reduction is conditioned on metric `val_acc` which is not available. Available metrics are: loss,accuracy,val_loss,val_accuracy,lr\n",
      "587/587 [==============================] - 13s 22ms/step - loss: 1.4532 - accuracy: 0.5446 - val_loss: 2.7444 - val_accuracy: 0.3033 - lr: 0.0010\n",
      "Epoch 41/70\n",
      "585/587 [============================>.] - ETA: 0s - loss: 1.4330 - accuracy: 0.5474WARNING:tensorflow:Can save best model only with val_acc available, skipping.\n",
      "WARNING:tensorflow:Learning rate reduction is conditioned on metric `val_acc` which is not available. Available metrics are: loss,accuracy,val_loss,val_accuracy,lr\n",
      "587/587 [==============================] - 13s 22ms/step - loss: 1.4334 - accuracy: 0.5475 - val_loss: 2.7990 - val_accuracy: 0.3416 - lr: 0.0010\n",
      "Epoch 42/70\n",
      "586/587 [============================>.] - ETA: 0s - loss: 1.4265 - accuracy: 0.5496WARNING:tensorflow:Can save best model only with val_acc available, skipping.\n",
      "WARNING:tensorflow:Learning rate reduction is conditioned on metric `val_acc` which is not available. Available metrics are: loss,accuracy,val_loss,val_accuracy,lr\n",
      "587/587 [==============================] - 13s 22ms/step - loss: 1.4263 - accuracy: 0.5498 - val_loss: 2.8408 - val_accuracy: 0.3258 - lr: 0.0010\n",
      "Epoch 43/70\n",
      "586/587 [============================>.] - ETA: 0s - loss: 1.4206 - accuracy: 0.5558WARNING:tensorflow:Can save best model only with val_acc available, skipping.\n",
      "WARNING:tensorflow:Learning rate reduction is conditioned on metric `val_acc` which is not available. Available metrics are: loss,accuracy,val_loss,val_accuracy,lr\n",
      "587/587 [==============================] - 13s 22ms/step - loss: 1.4202 - accuracy: 0.5559 - val_loss: 2.9912 - val_accuracy: 0.3239 - lr: 0.0010\n",
      "Epoch 44/70\n",
      "586/587 [============================>.] - ETA: 0s - loss: 1.4171 - accuracy: 0.5558WARNING:tensorflow:Can save best model only with val_acc available, skipping.\n",
      "WARNING:tensorflow:Learning rate reduction is conditioned on metric `val_acc` which is not available. Available metrics are: loss,accuracy,val_loss,val_accuracy,lr\n",
      "587/587 [==============================] - 13s 22ms/step - loss: 1.4170 - accuracy: 0.5559 - val_loss: 2.8221 - val_accuracy: 0.3479 - lr: 0.0010\n",
      "Epoch 45/70\n",
      "587/587 [==============================] - ETA: 0s - loss: 1.4278 - accuracy: 0.5515WARNING:tensorflow:Can save best model only with val_acc available, skipping.\n",
      "WARNING:tensorflow:Learning rate reduction is conditioned on metric `val_acc` which is not available. Available metrics are: loss,accuracy,val_loss,val_accuracy,lr\n",
      "587/587 [==============================] - 13s 22ms/step - loss: 1.4278 - accuracy: 0.5515 - val_loss: 2.8467 - val_accuracy: 0.3431 - lr: 0.0010\n",
      "Epoch 46/70\n",
      "585/587 [============================>.] - ETA: 0s - loss: 1.3717 - accuracy: 0.5683WARNING:tensorflow:Can save best model only with val_acc available, skipping.\n",
      "WARNING:tensorflow:Learning rate reduction is conditioned on metric `val_acc` which is not available. Available metrics are: loss,accuracy,val_loss,val_accuracy,lr\n",
      "587/587 [==============================] - 13s 22ms/step - loss: 1.3714 - accuracy: 0.5684 - val_loss: 2.9913 - val_accuracy: 0.3158 - lr: 0.0010\n",
      "Epoch 47/70\n",
      "587/587 [==============================] - ETA: 0s - loss: 1.4052 - accuracy: 0.5553WARNING:tensorflow:Can save best model only with val_acc available, skipping.\n",
      "WARNING:tensorflow:Learning rate reduction is conditioned on metric `val_acc` which is not available. Available metrics are: loss,accuracy,val_loss,val_accuracy,lr\n",
      "587/587 [==============================] - 13s 23ms/step - loss: 1.4052 - accuracy: 0.5553 - val_loss: 2.8360 - val_accuracy: 0.3340 - lr: 0.0010\n",
      "Epoch 48/70\n",
      "586/587 [============================>.] - ETA: 0s - loss: 1.3668 - accuracy: 0.5679WARNING:tensorflow:Can save best model only with val_acc available, skipping.\n",
      "WARNING:tensorflow:Learning rate reduction is conditioned on metric `val_acc` which is not available. Available metrics are: loss,accuracy,val_loss,val_accuracy,lr\n",
      "587/587 [==============================] - 13s 22ms/step - loss: 1.3671 - accuracy: 0.5679 - val_loss: 2.8106 - val_accuracy: 0.3517 - lr: 0.0010\n",
      "Epoch 49/70\n",
      "586/587 [============================>.] - ETA: 0s - loss: 1.3470 - accuracy: 0.5746WARNING:tensorflow:Can save best model only with val_acc available, skipping.\n",
      "WARNING:tensorflow:Learning rate reduction is conditioned on metric `val_acc` which is not available. Available metrics are: loss,accuracy,val_loss,val_accuracy,lr\n",
      "587/587 [==============================] - 13s 22ms/step - loss: 1.3466 - accuracy: 0.5746 - val_loss: 2.9073 - val_accuracy: 0.3321 - lr: 0.0010\n",
      "Epoch 50/70\n",
      "585/587 [============================>.] - ETA: 0s - loss: 1.3512 - accuracy: 0.5772WARNING:tensorflow:Can save best model only with val_acc available, skipping.\n",
      "WARNING:tensorflow:Learning rate reduction is conditioned on metric `val_acc` which is not available. Available metrics are: loss,accuracy,val_loss,val_accuracy,lr\n",
      "587/587 [==============================] - 13s 22ms/step - loss: 1.3510 - accuracy: 0.5773 - val_loss: 2.8435 - val_accuracy: 0.3555 - lr: 0.0010\n",
      "Epoch 51/70\n",
      "587/587 [==============================] - ETA: 0s - loss: 1.3573 - accuracy: 0.5768WARNING:tensorflow:Can save best model only with val_acc available, skipping.\n",
      "WARNING:tensorflow:Learning rate reduction is conditioned on metric `val_acc` which is not available. Available metrics are: loss,accuracy,val_loss,val_accuracy,lr\n",
      "587/587 [==============================] - 13s 22ms/step - loss: 1.3573 - accuracy: 0.5768 - val_loss: 2.9722 - val_accuracy: 0.3546 - lr: 0.0010\n",
      "Epoch 52/70\n",
      "586/587 [============================>.] - ETA: 0s - loss: 1.3417 - accuracy: 0.5813WARNING:tensorflow:Can save best model only with val_acc available, skipping.\n",
      "WARNING:tensorflow:Learning rate reduction is conditioned on metric `val_acc` which is not available. Available metrics are: loss,accuracy,val_loss,val_accuracy,lr\n",
      "587/587 [==============================] - 13s 22ms/step - loss: 1.3415 - accuracy: 0.5814 - val_loss: 2.8886 - val_accuracy: 0.3488 - lr: 0.0010\n",
      "Epoch 53/70\n",
      "587/587 [==============================] - ETA: 0s - loss: 1.3017 - accuracy: 0.5905WARNING:tensorflow:Can save best model only with val_acc available, skipping.\n",
      "WARNING:tensorflow:Learning rate reduction is conditioned on metric `val_acc` which is not available. Available metrics are: loss,accuracy,val_loss,val_accuracy,lr\n",
      "587/587 [==============================] - 13s 22ms/step - loss: 1.3017 - accuracy: 0.5905 - val_loss: 2.9792 - val_accuracy: 0.3349 - lr: 0.0010\n",
      "Epoch 54/70\n",
      "587/587 [==============================] - ETA: 0s - loss: 1.3033 - accuracy: 0.5922WARNING:tensorflow:Can save best model only with val_acc available, skipping.\n",
      "WARNING:tensorflow:Learning rate reduction is conditioned on metric `val_acc` which is not available. Available metrics are: loss,accuracy,val_loss,val_accuracy,lr\n",
      "587/587 [==============================] - 13s 22ms/step - loss: 1.3033 - accuracy: 0.5922 - val_loss: 2.9200 - val_accuracy: 0.3426 - lr: 0.0010\n",
      "Epoch 55/70\n",
      "585/587 [============================>.] - ETA: 0s - loss: 1.2826 - accuracy: 0.5928WARNING:tensorflow:Can save best model only with val_acc available, skipping.\n",
      "WARNING:tensorflow:Learning rate reduction is conditioned on metric `val_acc` which is not available. Available metrics are: loss,accuracy,val_loss,val_accuracy,lr\n",
      "587/587 [==============================] - 13s 22ms/step - loss: 1.2831 - accuracy: 0.5928 - val_loss: 3.0555 - val_accuracy: 0.3345 - lr: 0.0010\n",
      "Epoch 56/70\n",
      "586/587 [============================>.] - ETA: 0s - loss: 1.3361 - accuracy: 0.5757WARNING:tensorflow:Can save best model only with val_acc available, skipping.\n",
      "WARNING:tensorflow:Learning rate reduction is conditioned on metric `val_acc` which is not available. Available metrics are: loss,accuracy,val_loss,val_accuracy,lr\n",
      "587/587 [==============================] - 13s 22ms/step - loss: 1.3364 - accuracy: 0.5755 - val_loss: 2.8997 - val_accuracy: 0.3455 - lr: 0.0010\n",
      "Epoch 57/70\n",
      "585/587 [============================>.] - ETA: 0s - loss: 1.3120 - accuracy: 0.5877WARNING:tensorflow:Can save best model only with val_acc available, skipping.\n",
      "WARNING:tensorflow:Learning rate reduction is conditioned on metric `val_acc` which is not available. Available metrics are: loss,accuracy,val_loss,val_accuracy,lr\n",
      "587/587 [==============================] - 13s 22ms/step - loss: 1.3128 - accuracy: 0.5874 - val_loss: 2.8790 - val_accuracy: 0.3364 - lr: 0.0010\n",
      "Epoch 58/70\n",
      "587/587 [==============================] - ETA: 0s - loss: 1.2703 - accuracy: 0.5967WARNING:tensorflow:Can save best model only with val_acc available, skipping.\n",
      "WARNING:tensorflow:Learning rate reduction is conditioned on metric `val_acc` which is not available. Available metrics are: loss,accuracy,val_loss,val_accuracy,lr\n",
      "587/587 [==============================] - 13s 23ms/step - loss: 1.2703 - accuracy: 0.5967 - val_loss: 2.9029 - val_accuracy: 0.3670 - lr: 0.0010\n",
      "Epoch 59/70\n",
      "587/587 [==============================] - ETA: 0s - loss: 1.2842 - accuracy: 0.5947WARNING:tensorflow:Can save best model only with val_acc available, skipping.\n",
      "WARNING:tensorflow:Learning rate reduction is conditioned on metric `val_acc` which is not available. Available metrics are: loss,accuracy,val_loss,val_accuracy,lr\n",
      "587/587 [==============================] - 13s 22ms/step - loss: 1.2842 - accuracy: 0.5947 - val_loss: 3.0664 - val_accuracy: 0.3297 - lr: 0.0010\n",
      "Epoch 60/70\n",
      "586/587 [============================>.] - ETA: 0s - loss: 1.2594 - accuracy: 0.6013WARNING:tensorflow:Can save best model only with val_acc available, skipping.\n",
      "WARNING:tensorflow:Learning rate reduction is conditioned on metric `val_acc` which is not available. Available metrics are: loss,accuracy,val_loss,val_accuracy,lr\n",
      "587/587 [==============================] - 13s 22ms/step - loss: 1.2597 - accuracy: 0.6010 - val_loss: 3.0217 - val_accuracy: 0.3368 - lr: 0.0010\n",
      "Epoch 61/70\n",
      "587/587 [==============================] - ETA: 0s - loss: 1.2532 - accuracy: 0.6050WARNING:tensorflow:Can save best model only with val_acc available, skipping.\n",
      "WARNING:tensorflow:Learning rate reduction is conditioned on metric `val_acc` which is not available. Available metrics are: loss,accuracy,val_loss,val_accuracy,lr\n",
      "587/587 [==============================] - 13s 22ms/step - loss: 1.2532 - accuracy: 0.6050 - val_loss: 2.9458 - val_accuracy: 0.3632 - lr: 0.0010\n",
      "Epoch 62/70\n",
      "586/587 [============================>.] - ETA: 0s - loss: 1.2564 - accuracy: 0.6022WARNING:tensorflow:Can save best model only with val_acc available, skipping.\n",
      "WARNING:tensorflow:Learning rate reduction is conditioned on metric `val_acc` which is not available. Available metrics are: loss,accuracy,val_loss,val_accuracy,lr\n",
      "587/587 [==============================] - 13s 22ms/step - loss: 1.2561 - accuracy: 0.6022 - val_loss: 2.9038 - val_accuracy: 0.3440 - lr: 0.0010\n",
      "Epoch 63/70\n",
      "586/587 [============================>.] - ETA: 0s - loss: 1.2599 - accuracy: 0.6024WARNING:tensorflow:Can save best model only with val_acc available, skipping.\n",
      "WARNING:tensorflow:Learning rate reduction is conditioned on metric `val_acc` which is not available. Available metrics are: loss,accuracy,val_loss,val_accuracy,lr\n",
      "587/587 [==============================] - 13s 22ms/step - loss: 1.2600 - accuracy: 0.6024 - val_loss: 3.0498 - val_accuracy: 0.3699 - lr: 0.0010\n",
      "Epoch 64/70\n",
      "586/587 [============================>.] - ETA: 0s - loss: 1.2586 - accuracy: 0.6028WARNING:tensorflow:Can save best model only with val_acc available, skipping.\n",
      "WARNING:tensorflow:Learning rate reduction is conditioned on metric `val_acc` which is not available. Available metrics are: loss,accuracy,val_loss,val_accuracy,lr\n",
      "587/587 [==============================] - 13s 22ms/step - loss: 1.2586 - accuracy: 0.6028 - val_loss: 3.0021 - val_accuracy: 0.3637 - lr: 0.0010\n",
      "Epoch 65/70\n",
      "587/587 [==============================] - ETA: 0s - loss: 1.2186 - accuracy: 0.6136WARNING:tensorflow:Can save best model only with val_acc available, skipping.\n",
      "WARNING:tensorflow:Learning rate reduction is conditioned on metric `val_acc` which is not available. Available metrics are: loss,accuracy,val_loss,val_accuracy,lr\n",
      "587/587 [==============================] - 13s 23ms/step - loss: 1.2186 - accuracy: 0.6136 - val_loss: 2.9738 - val_accuracy: 0.3790 - lr: 0.0010\n",
      "Epoch 66/70\n",
      "587/587 [==============================] - ETA: 0s - loss: 1.1931 - accuracy: 0.6201WARNING:tensorflow:Can save best model only with val_acc available, skipping.\n",
      "WARNING:tensorflow:Learning rate reduction is conditioned on metric `val_acc` which is not available. Available metrics are: loss,accuracy,val_loss,val_accuracy,lr\n",
      "587/587 [==============================] - 13s 21ms/step - loss: 1.1931 - accuracy: 0.6201 - val_loss: 3.0701 - val_accuracy: 0.3646 - lr: 0.0010\n",
      "Epoch 67/70\n",
      "586/587 [============================>.] - ETA: 0s - loss: 1.2009 - accuracy: 0.6187WARNING:tensorflow:Can save best model only with val_acc available, skipping.\n",
      "WARNING:tensorflow:Learning rate reduction is conditioned on metric `val_acc` which is not available. Available metrics are: loss,accuracy,val_loss,val_accuracy,lr\n",
      "587/587 [==============================] - 13s 22ms/step - loss: 1.2008 - accuracy: 0.6187 - val_loss: 3.0116 - val_accuracy: 0.3699 - lr: 0.0010\n",
      "Epoch 68/70\n",
      "586/587 [============================>.] - ETA: 0s - loss: 1.1926 - accuracy: 0.6246WARNING:tensorflow:Can save best model only with val_acc available, skipping.\n",
      "WARNING:tensorflow:Learning rate reduction is conditioned on metric `val_acc` which is not available. Available metrics are: loss,accuracy,val_loss,val_accuracy,lr\n",
      "587/587 [==============================] - 13s 22ms/step - loss: 1.1923 - accuracy: 0.6247 - val_loss: 2.9681 - val_accuracy: 0.3632 - lr: 0.0010\n",
      "Epoch 69/70\n",
      "586/587 [============================>.] - ETA: 0s - loss: 1.2036 - accuracy: 0.6174WARNING:tensorflow:Can save best model only with val_acc available, skipping.\n",
      "WARNING:tensorflow:Learning rate reduction is conditioned on metric `val_acc` which is not available. Available metrics are: loss,accuracy,val_loss,val_accuracy,lr\n",
      "587/587 [==============================] - 13s 22ms/step - loss: 1.2036 - accuracy: 0.6174 - val_loss: 2.9757 - val_accuracy: 0.3675 - lr: 0.0010\n",
      "Epoch 70/70\n",
      "587/587 [==============================] - ETA: 0s - loss: 1.1743 - accuracy: 0.6292WARNING:tensorflow:Can save best model only with val_acc available, skipping.\n",
      "WARNING:tensorflow:Learning rate reduction is conditioned on metric `val_acc` which is not available. Available metrics are: loss,accuracy,val_loss,val_accuracy,lr\n",
      "587/587 [==============================] - 13s 23ms/step - loss: 1.1743 - accuracy: 0.6292 - val_loss: 3.1330 - val_accuracy: 0.3723 - lr: 0.0010\n"
     ]
    }
   ],
   "source": [
    "history=model.fit(X_train,y_train,validation_data=(X_valid,y_valid),batch_size=32,callbacks=[mcp_save,reduce_lr],epochs=70)"
   ]
  },
  {
   "cell_type": "code",
   "execution_count": 65,
   "id": "f3acae5c-2b7c-440d-9d69-89677b553fa6",
   "metadata": {},
   "outputs": [],
   "source": [
    "y_test = keras.utils.to_categorical(y_test, num_classes)"
   ]
  },
  {
   "cell_type": "code",
   "execution_count": 66,
   "id": "ffe9ea65-19fc-4502-8e97-073fc57fb3ad",
   "metadata": {},
   "outputs": [
    {
     "name": "stdout",
     "output_type": "stream",
     "text": [
      "73/73 [==============================] - 0s 5ms/step - loss: 3.0820 - accuracy: 0.3795\n"
     ]
    }
   ],
   "source": [
    "_, acc = model.evaluate(X_test, y_test)"
   ]
  },
  {
   "cell_type": "code",
   "execution_count": 67,
   "id": "1a765641-e43c-4c2c-9c77-17e4fab5acce",
   "metadata": {},
   "outputs": [
    {
     "name": "stdout",
     "output_type": "stream",
     "text": [
      "73/73 [==============================] - 0s 5ms/step\n"
     ]
    }
   ],
   "source": [
    "y_pred=model.predict(X_test)"
   ]
  },
  {
   "cell_type": "code",
   "execution_count": 73,
   "id": "3de10cdc-5294-4bed-b16d-484f8bfc1713",
   "metadata": {},
   "outputs": [
    {
     "data": {
      "text/plain": [
       "array([18,  0,  4, ..., 11,  1, 20])"
      ]
     },
     "execution_count": 73,
     "metadata": {},
     "output_type": "execute_result"
    }
   ],
   "source": [
    "y_pred=np.argmax(y_pred, axis=1)\n",
    "y_pred"
   ]
  },
  {
   "cell_type": "code",
   "execution_count": 74,
   "id": "5a4bc88a-2d32-46cd-b71c-48d579cfdca4",
   "metadata": {},
   "outputs": [],
   "source": [
    "y_test=np.argmax(y_test, axis=1)"
   ]
  },
  {
   "cell_type": "code",
   "execution_count": 75,
   "id": "4b73b5ad-25bb-4441-bef7-65784e8b7eca",
   "metadata": {},
   "outputs": [],
   "source": [
    "from sklearn.metrics import classification_report, confusion_matrix, roc_curve, auc\n"
   ]
  },
  {
   "cell_type": "code",
   "execution_count": 76,
   "id": "6f8256b9-1dff-4483-9f91-125de32661f7",
   "metadata": {},
   "outputs": [],
   "source": [
    "confusion_matrix_result=confusion_matrix(y_test,y_pred)"
   ]
  },
  {
   "cell_type": "code",
   "execution_count": 77,
   "id": "4fcca80a-3379-4c9a-952b-2d1bd5eba851",
   "metadata": {},
   "outputs": [
    {
     "data": {
      "text/plain": [
       "array([[39,  3,  0,  3,  1,  2,  7,  1,  3,  4,  4,  3,  1,  1,  1,  2,\n",
       "         2,  2,  3,  0,  4,  3,  2],\n",
       "       [ 0, 23,  6,  1,  3,  4,  5,  3,  4,  2,  5,  3,  3,  1,  4,  0,\n",
       "         5,  2,  5,  3,  1,  4,  1],\n",
       "       [ 2,  4, 60,  7,  3,  1,  1,  0,  2,  4,  0,  5,  7,  2,  4,  1,\n",
       "         3,  0,  0,  3,  0,  1,  1],\n",
       "       [ 5,  2,  1, 46,  2,  1,  3,  2,  3,  4, 15,  2,  3,  0,  0,  2,\n",
       "         0,  4,  0,  5,  2,  2,  8],\n",
       "       [ 2,  5,  2,  1, 45,  0,  4,  2,  5,  1,  5,  1,  5,  4,  7,  1,\n",
       "         2,  1,  2,  1,  2,  2,  2],\n",
       "       [ 0,  0,  0,  0,  2, 46,  3,  0,  5,  2,  1,  2,  3,  3,  2,  7,\n",
       "         6,  2,  1,  5,  3,  3,  5],\n",
       "       [ 3,  0,  5,  1,  1,  5, 44,  0,  1,  1,  1,  2,  5,  3,  4,  1,\n",
       "         1,  4,  5,  4,  2,  4,  1],\n",
       "       [ 2,  0,  1,  2,  9,  4,  3, 36,  1,  0,  1,  1,  5,  1,  8,  1,\n",
       "         2,  3,  1,  1,  1,  3,  1],\n",
       "       [ 1,  1,  1,  1,  3,  6,  5,  0, 35,  5,  4,  3,  4,  1,  1,  4,\n",
       "        10,  1,  1,  6,  4,  1,  8],\n",
       "       [ 4,  1,  1,  3,  2,  1,  4,  4,  5, 28, 11,  3,  3,  0,  1,  4,\n",
       "        10,  2,  5,  1,  4,  6,  1],\n",
       "       [ 2,  2,  2, 21,  2,  3,  4,  0,  2,  6, 45,  5,  1,  0,  1,  1,\n",
       "         5,  0,  3,  3,  1,  0,  1],\n",
       "       [ 4,  1,  0,  3,  1,  0,  9,  0, 12,  3,  4, 24,  3,  2,  2,  2,\n",
       "        11,  5,  5,  2,  6,  1,  3],\n",
       "       [ 3,  3,  2,  1,  3,  4,  4,  1,  3,  3,  0,  1, 26,  3,  7,  2,\n",
       "        12,  2,  4,  3,  3,  2,  8],\n",
       "       [ 0,  4,  3,  2,  5,  4,  2,  1,  4,  0,  1,  1,  2, 35, 11,  2,\n",
       "         5,  0,  2,  4,  2,  1,  3],\n",
       "       [ 1,  2,  0,  3,  4,  3,  3,  2,  1,  0,  2,  2,  8,  7, 46,  5,\n",
       "         7,  1,  4,  6,  2,  4,  6],\n",
       "       [ 0,  2,  1,  1,  0,  5,  2,  2,  5,  4,  4,  3,  4,  2,  3, 33,\n",
       "         1,  2,  5,  8,  3,  1,  7],\n",
       "       [ 0,  1,  0,  1,  0,  5,  2,  1,  5,  3,  8,  2,  2,  3,  2,  4,\n",
       "        40,  1,  2,  6,  2,  1,  7],\n",
       "       [ 1,  0,  0,  1,  1,  5,  1,  1,  3,  1,  4,  3,  5,  1,  6,  2,\n",
       "         5, 39,  3,  5,  4,  2,  4],\n",
       "       [ 1,  1,  1,  1,  0,  4,  4,  0,  3,  1,  1,  2,  5,  2,  3,  5,\n",
       "         3,  5, 53,  0,  3,  0,  8],\n",
       "       [ 2,  3,  1,  2,  1,  4,  5,  1,  1,  2,  1,  4,  2,  2,  3,  4,\n",
       "         5,  3,  1, 28,  6,  1,  7],\n",
       "       [ 0,  1,  2,  2,  2,  5,  4,  0,  3,  2,  2,  4,  3,  0,  2,  5,\n",
       "        10,  6,  5,  4, 35,  2,  2],\n",
       "       [ 1,  3,  5,  1,  4,  2,  7,  7,  1,  2,  5,  0,  6,  1,  4,  3,\n",
       "         6,  1,  0,  3,  1, 35,  4],\n",
       "       [ 1,  0,  0,  6,  1,  5,  2,  0,  4,  4,  1,  1,  3,  0,  1,  2,\n",
       "        10,  4,  2, 10,  5,  1, 39]])"
      ]
     },
     "execution_count": 77,
     "metadata": {},
     "output_type": "execute_result"
    }
   ],
   "source": [
    "confusion_matrix_result"
   ]
  },
  {
   "cell_type": "code",
   "execution_count": null,
   "id": "0fe36dc8-af7d-4f45-81ff-ef2fb6c20eda",
   "metadata": {},
   "outputs": [],
   "source": [
    "classification_report"
   ]
  },
  {
   "cell_type": "code",
   "execution_count": null,
   "id": "9b0e42e7-ede9-4592-ba0d-29185604a68e",
   "metadata": {},
   "outputs": [],
   "source": []
  }
 ],
 "metadata": {
  "environment": {
   "kernel": "python3",
   "name": "tf2-gpu.2-11.m109",
   "type": "gcloud",
   "uri": "gcr.io/deeplearning-platform-release/tf2-gpu.2-11:m109"
  },
  "kernelspec": {
   "display_name": "Python 3",
   "language": "python",
   "name": "python3"
  },
  "language_info": {
   "codemirror_mode": {
    "name": "ipython",
    "version": 3
   },
   "file_extension": ".py",
   "mimetype": "text/x-python",
   "name": "python",
   "nbconvert_exporter": "python",
   "pygments_lexer": "ipython3",
   "version": "3.10.11"
  }
 },
 "nbformat": 4,
 "nbformat_minor": 5
}
